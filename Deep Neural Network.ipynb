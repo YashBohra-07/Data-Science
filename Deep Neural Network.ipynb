{
 "cells": [
  {
   "cell_type": "markdown",
   "metadata": {
    "id": "0IJe0nRjJRqS"
   },
   "source": [
    "# **Deep Neural Networks**"
   ]
  },
  {
   "cell_type": "code",
   "execution_count": null,
   "metadata": {
    "id": "yZd98dGCJUXW"
   },
   "outputs": [],
   "source": [
    "import sklearn\n",
    "import numpy as np\n",
    "\n",
    "import tensorflow as tf\n",
    "from tensorflow import keras\n",
    "\n",
    "# to make this notebook's output stable across runs\n",
    "np.random.seed(42)\n",
    "\n",
    "%matplotlib inline\n",
    "import matplotlib as mpl\n",
    "import matplotlib.pyplot as plt\n",
    "mpl.rc('axes', labelsize=14)\n",
    "mpl.rc('xtick', labelsize=12)\n",
    "mpl.rc('ytick', labelsize=12)"
   ]
  },
  {
   "cell_type": "code",
   "execution_count": null,
   "metadata": {
    "colab": {
     "base_uri": "https://localhost:8080/"
    },
    "id": "2Bs2UDTqJuUc",
    "outputId": "2bbf0f98-3a1d-4955-c9b6-9a5aec3b850e"
   },
   "outputs": [
    {
     "name": "stdout",
     "output_type": "stream",
     "text": [
      "Downloading data from https://storage.googleapis.com/tensorflow/tf-keras-datasets/train-labels-idx1-ubyte.gz\n",
      "32768/29515 [=================================] - 0s 0us/step\n",
      "Downloading data from https://storage.googleapis.com/tensorflow/tf-keras-datasets/train-images-idx3-ubyte.gz\n",
      "26427392/26421880 [==============================] - 0s 0us/step\n",
      "Downloading data from https://storage.googleapis.com/tensorflow/tf-keras-datasets/t10k-labels-idx1-ubyte.gz\n",
      "8192/5148 [===============================================] - 0s 0us/step\n",
      "Downloading data from https://storage.googleapis.com/tensorflow/tf-keras-datasets/t10k-images-idx3-ubyte.gz\n",
      "4423680/4422102 [==============================] - 0s 0us/step\n"
     ]
    }
   ],
   "source": [
    "fashion_mnist = keras.datasets.fashion_mnist\n",
    "(X_train_full, y_train_full), (X_test, y_test) = fashion_mnist.load_data()"
   ]
  },
  {
   "cell_type": "code",
   "execution_count": null,
   "metadata": {
    "id": "goI4G_OM3zSg"
   },
   "outputs": [],
   "source": [
    "# X_train_full"
   ]
  },
  {
   "cell_type": "code",
   "execution_count": null,
   "metadata": {
    "colab": {
     "base_uri": "https://localhost:8080/"
    },
    "id": "FvGqXKq2JxFU",
    "outputId": "54eb9e1c-5577-43f3-c717-8ce48500b45c"
   },
   "outputs": [
    {
     "data": {
      "text/plain": [
       "((60000, 28, 28), (60000,))"
      ]
     },
     "execution_count": 4,
     "metadata": {
      "tags": []
     },
     "output_type": "execute_result"
    }
   ],
   "source": [
    "X_train_full.shape, y_train_full.shape"
   ]
  },
  {
   "cell_type": "code",
   "execution_count": null,
   "metadata": {
    "colab": {
     "base_uri": "https://localhost:8080/"
    },
    "id": "NSa7_98qI4NR",
    "outputId": "93108df5-ad26-440e-d1a0-57ee55754106"
   },
   "outputs": [
    {
     "data": {
      "text/plain": [
       "((10000, 28, 28), (10000,))"
      ]
     },
     "execution_count": 5,
     "metadata": {
      "tags": []
     },
     "output_type": "execute_result"
    }
   ],
   "source": [
    "X_test.shape, y_test.shape"
   ]
  },
  {
   "cell_type": "markdown",
   "metadata": {
    "id": "nbe0lv7QJ0as"
   },
   "source": [
    "- Let's split the full training set into a validation set and a (smaller) training set. We also scale the pixel intensities down to the 0-1 range and convert them to floats, by dividing by 255."
   ]
  },
  {
   "cell_type": "code",
   "execution_count": null,
   "metadata": {
    "id": "gw6qFF8uJ1Kh"
   },
   "outputs": [],
   "source": [
    "X_valid, X_train = X_train_full[:5000] / 255.0 , X_train_full[5000:] / 255.0\n",
    "y_valid, y_train = y_train_full[:5000] , y_train_full[5000:]\n",
    "X_test = X_test / 255.0"
   ]
  },
  {
   "cell_type": "code",
   "execution_count": null,
   "metadata": {
    "colab": {
     "base_uri": "https://localhost:8080/"
    },
    "id": "TusPmW6x4U3C",
    "outputId": "613628e8-66ec-4890-b389-c4c2afaf7249"
   },
   "outputs": [
    {
     "data": {
      "text/plain": [
       "array([4, 0, 7, ..., 3, 0, 5], dtype=uint8)"
      ]
     },
     "execution_count": 7,
     "metadata": {
      "tags": []
     },
     "output_type": "execute_result"
    }
   ],
   "source": [
    "y_train"
   ]
  },
  {
   "cell_type": "code",
   "execution_count": null,
   "metadata": {
    "id": "em6eoQ23J5Ix"
   },
   "outputs": [],
   "source": [
    "class_names = [\"T-shirt/top\", \"Trouser\", \"Pullover\", \"Dress\", \"Coat\",\n",
    "               \"Sandal\", \"Shirt\", \"Sneaker\", \"Bag\", \"Ankle boot\"]"
   ]
  },
  {
   "cell_type": "code",
   "execution_count": null,
   "metadata": {
    "colab": {
     "base_uri": "https://localhost:8080/",
     "height": 265
    },
    "id": "Xr8oKhe5J9O4",
    "outputId": "c0939dd0-709b-4d28-b621-d7509a5a36c0"
   },
   "outputs": [
    {
     "name": "stdout",
     "output_type": "stream",
     "text": [
      "Coat\n"
     ]
    },
    {
     "data": {
      "image/png": "[encoded data removed]",
      "text/plain": [
       "<Figure size 432x288 with 1 Axes>"
      ]
     },
     "metadata": {
      "needs_background": "light",
      "tags": []
     },
     "output_type": "display_data"
    }
   ],
   "source": [
    "print(class_names[y_train[0]])\n",
    "plt.imshow(X_train[0], cmap=\"binary\")\n",
    "plt.axis('off')\n",
    "plt.show()"
   ]
  },
  {
   "cell_type": "markdown",
   "metadata": {
    "id": "ks7D5r6XKGsc"
   },
   "source": [
    "- The validation set contains 5,000 images, and the test set contains 10,000 images"
   ]
  },
  {
   "cell_type": "code",
   "execution_count": null,
   "metadata": {
    "colab": {
     "base_uri": "https://localhost:8080/"
    },
    "id": "kkFOrNmpKE0H",
    "outputId": "4ad32034-e846-4598-accf-c94bef6379e0"
   },
   "outputs": [
    {
     "name": "stdout",
     "output_type": "stream",
     "text": [
      "(5000, 28, 28)\n",
      "(10000, 28, 28)\n"
     ]
    }
   ],
   "source": [
    "print(X_valid.shape)\n",
    "print(X_test.shape)"
   ]
  },
  {
   "cell_type": "markdown",
   "metadata": {
    "id": "VTbZGiJUKNsK"
   },
   "source": [
    "- Let's take a look at a sample of the images in the dataset"
   ]
  },
  {
   "cell_type": "code",
   "execution_count": null,
   "metadata": {
    "colab": {
     "base_uri": "https://localhost:8080/",
     "height": 308
    },
    "id": "zLBa-hc2KO5F",
    "outputId": "62c4da5f-4da5-4f10-f3b3-e1aa64d32238"
   },
   "outputs": [
    {
     "data": {
      "image/png": "[encoded data removed]",
      "text/plain": [
       "<Figure size 864x345.6 with 40 Axes>"
      ]
     },
     "metadata": {
      "needs_background": "light",
      "tags": []
     },
     "output_type": "display_data"
    }
   ],
   "source": [
    "n_rows = 4\n",
    "n_cols = 10\n",
    "plt.figure(figsize=(n_cols * 1.2, n_rows * 1.2))\n",
    "for row in range(n_rows):\n",
    "    for col in range(n_cols):\n",
    "        index = n_cols * row + col\n",
    "        plt.subplot(n_rows, n_cols, index + 1)\n",
    "        plt.imshow(X_train[index], cmap=\"binary\", interpolation=\"nearest\")\n",
    "        plt.axis('off')\n",
    "        plt.title(class_names[y_train[index]], fontsize=12)\n",
    "plt.subplots_adjust(wspace=0.2, hspace=0.5)\n",
    "plt.show()"
   ]
  },
  {
   "cell_type": "code",
   "execution_count": null,
   "metadata": {
    "id": "Z-g3u6P8KULD"
   },
   "outputs": [],
   "source": [
    "# Model - DNN (Dense Neural Network)\n",
    "# 784 --> 300 --> 100 --> 10 (No.of Nuerons)\n",
    "model = keras.models.Sequential()\n",
    "model.add(keras.layers.Flatten(input_shape=[28,28]))\n",
    "model.add(keras.layers.Dense(300, activation=\"relu\"))\n",
    "model.add(keras.layers.Dense(100, activation=\"relu\"))\n",
    "model.add(keras.layers.Dense(10, activation=\"softmax\"))"
   ]
  },
  {
   "cell_type": "code",
   "execution_count": null,
   "metadata": {
    "id": "YNqUgO_MKZVH"
   },
   "outputs": [],
   "source": [
    "# Alternatively:\n",
    "model2 = keras.models.Sequential([\n",
    "    keras.layers.Flatten(input_shape=[28, 28]),\n",
    "    keras.layers.Dense(300, activation=\"relu\"),\n",
    "    keras.layers.Dense(100, activation=\"relu\"),\n",
    "    keras.layers.Dense(10, activation=\"softmax\")\n",
    "])"
   ]
  },
  {
   "cell_type": "code",
   "execution_count": null,
   "metadata": {
    "id": "NpspbmxJ-bA1"
   },
   "outputs": [],
   "source": [
    "# model2 = tf.keras.models.clone_model(model)"
   ]
  },
  {
   "cell_type": "code",
   "execution_count": null,
   "metadata": {
    "colab": {
     "base_uri": "https://localhost:8080/"
    },
    "id": "zuORXENhKgKf",
    "outputId": "1dc92e9b-1531-433d-f19d-561cd821a046"
   },
   "outputs": [
    {
     "data": {
      "text/plain": [
       "[<tensorflow.python.keras.layers.core.Flatten at 0x7fa7f9436910>,\n",
       " <tensorflow.python.keras.layers.core.Dense at 0x7fa82e3e4d10>,\n",
       " <tensorflow.python.keras.layers.core.Dense at 0x7fa7e01a5fd0>,\n",
       " <tensorflow.python.keras.layers.core.Dense at 0x7fa7e0175790>]"
      ]
     },
     "execution_count": 14,
     "metadata": {
      "tags": []
     },
     "output_type": "execute_result"
    }
   ],
   "source": [
    "# Layers\n",
    "model.layers"
   ]
  },
  {
   "cell_type": "code",
   "execution_count": null,
   "metadata": {
    "colab": {
     "base_uri": "https://localhost:8080/"
    },
    "id": "9OB2xjFT-qKc",
    "outputId": "2981bcb6-9408-4bef-8658-5d571ce78972"
   },
   "outputs": [
    {
     "data": {
      "text/plain": [
       "[<tensorflow.python.keras.layers.core.Flatten at 0x7fa7e017af10>,\n",
       " <tensorflow.python.keras.layers.core.Dense at 0x7fa7e017a250>,\n",
       " <tensorflow.python.keras.layers.core.Dense at 0x7fa7f89f5fd0>,\n",
       " <tensorflow.python.keras.layers.core.Dense at 0x7fa7e0175d90>]"
      ]
     },
     "execution_count": 15,
     "metadata": {
      "tags": []
     },
     "output_type": "execute_result"
    }
   ],
   "source": [
    "model2.layers"
   ]
  },
  {
   "cell_type": "code",
   "execution_count": null,
   "metadata": {
    "colab": {
     "base_uri": "https://localhost:8080/"
    },
    "id": "PfUP1HR1Ki01",
    "outputId": "979412cd-2b80-49e6-8b10-e11af0724d29"
   },
   "outputs": [
    {
     "name": "stdout",
     "output_type": "stream",
     "text": [
      "Model: \"sequential\"\n",
      "_________________________________________________________________\n",
      "Layer (type)                 Output Shape              Param #   \n",
      "=================================================================\n",
      "flatten (Flatten)            (None, 784)               0         \n",
      "_________________________________________________________________\n",
      "dense (Dense)                (None, 300)               235500    \n",
      "_________________________________________________________________\n",
      "dense_1 (Dense)              (None, 100)               30100     \n",
      "_________________________________________________________________\n",
      "dense_2 (Dense)              (None, 10)                1010      \n",
      "=================================================================\n",
      "Total params: 266,610\n",
      "Trainable params: 266,610\n",
      "Non-trainable params: 0\n",
      "_________________________________________________________________\n"
     ]
    }
   ],
   "source": [
    "# Summary\n",
    "model.summary()"
   ]
  },
  {
   "cell_type": "code",
   "execution_count": null,
   "metadata": {
    "colab": {
     "base_uri": "https://localhost:8080/"
    },
    "id": "U_wBq3-cEUnT",
    "outputId": "f07dfb1d-dc04-4c88-cee4-760a5721b7e6"
   },
   "outputs": [
    {
     "name": "stdout",
     "output_type": "stream",
     "text": [
      "Model: \"sequential_1\"\n",
      "_________________________________________________________________\n",
      "Layer (type)                 Output Shape              Param #   \n",
      "=================================================================\n",
      "flatten_1 (Flatten)          (None, 784)               0         \n",
      "_________________________________________________________________\n",
      "dense_3 (Dense)              (None, 300)               235500    \n",
      "_________________________________________________________________\n",
      "dense_4 (Dense)              (None, 100)               30100     \n",
      "_________________________________________________________________\n",
      "dense_5 (Dense)              (None, 10)                1010      \n",
      "=================================================================\n",
      "Total params: 266,610\n",
      "Trainable params: 266,610\n",
      "Non-trainable params: 0\n",
      "_________________________________________________________________\n"
     ]
    }
   ],
   "source": [
    "model2.summary()"
   ]
  },
  {
   "cell_type": "code",
   "execution_count": null,
   "metadata": {
    "colab": {
     "base_uri": "https://localhost:8080/",
     "height": 36
    },
    "id": "98ohA7AT6fdq",
    "outputId": "968608b5-64ab-4d64-9fa2-b7c50a7d5c61"
   },
   "outputs": [
    {
     "data": {
      "application/vnd.google.colaboratory.intrinsic+json": {
       "type": "string"
      },
      "text/plain": [
       "'\\n1. 784 * 300 + 300 = 235500\\n2. 300 * 10 + 10 = 30100\\n3. 100 * 10 + 10 = 1010\\n'"
      ]
     },
     "execution_count": 19,
     "metadata": {
      "tags": []
     },
     "output_type": "execute_result"
    }
   ],
   "source": [
    "# Param learned in each layer\n",
    "'''\n",
    "1. 784 * 300 + 300 = 235500\n",
    "2. 300 * 100 + 100 = 30100\n",
    "3. 100 * 10 + 10 = 1010\n",
    "'''"
   ]
  },
  {
   "cell_type": "code",
   "execution_count": null,
   "metadata": {
    "colab": {
     "base_uri": "https://localhost:8080/",
     "height": 533
    },
    "id": "pulhJlDlKlvu",
    "outputId": "8e6310e8-b09a-41c4-bac0-e0bd4128dc70"
   },
   "outputs": [
    {
     "data": {
      "image/png": "[encoded data removed]",
      "text/plain": [
       "<IPython.core.display.Image object>"
      ]
     },
     "execution_count": 18,
     "metadata": {
      "tags": []
     },
     "output_type": "execute_result"
    }
   ],
   "source": [
    "# The network\n",
    "keras.utils.plot_model(model, \"my_fashion_mnist_model.png\", show_shapes=True)"
   ]
  },
  {
   "cell_type": "code",
   "execution_count": null,
   "metadata": {
    "colab": {
     "base_uri": "https://localhost:8080/",
     "height": 533
    },
    "id": "vLpNFN34MGkJ",
    "outputId": "63cbfb71-c3bc-41d5-cc20-1272359d1c5b"
   },
   "outputs": [
    {
     "data": {
      "image/png": "[encoded data removed]",
      "text/plain": [
       "<IPython.core.display.Image object>"
      ]
     },
     "execution_count": 19,
     "metadata": {
      "tags": []
     },
     "output_type": "execute_result"
    }
   ],
   "source": [
    "keras.utils.plot_model(model2, \"my_fashion_mnist_model2.png\", show_shapes=True)"
   ]
  },
  {
   "cell_type": "code",
   "execution_count": null,
   "metadata": {
    "colab": {
     "base_uri": "https://localhost:8080/"
    },
    "id": "iV6987PuKrKZ",
    "outputId": "3f35c69f-dcfc-4167-aa0a-913929a9952f"
   },
   "outputs": [
    {
     "data": {
      "text/plain": [
       "array([[ 0.04905691,  0.06199741,  0.06125991, ...,  0.03424076,\n",
       "        -0.00176137,  0.0680574 ],\n",
       "       [ 0.04369026,  0.04276776, -0.05234824, ..., -0.06028406,\n",
       "        -0.01047719,  0.017982  ],\n",
       "       [ 0.06001364,  0.00937029, -0.03498409, ...,  0.00951274,\n",
       "         0.06719972,  0.00721409],\n",
       "       ...,\n",
       "       [-0.04820509,  0.01702073,  0.02473909, ..., -0.07004519,\n",
       "         0.0120994 ,  0.0510966 ],\n",
       "       [-0.04085691, -0.02360114, -0.00212602, ...,  0.05614038,\n",
       "        -0.02714582,  0.01882628],\n",
       "       [-0.02607156, -0.06182602, -0.02133605, ..., -0.01428589,\n",
       "        -0.07083584, -0.02400318]], dtype=float32)"
      ]
     },
     "execution_count": 20,
     "metadata": {
      "tags": []
     },
     "output_type": "execute_result"
    }
   ],
   "source": [
    "hidden1 = model.layers[1]\n",
    "weights, biases = hidden1.get_weights()\n",
    "weights\n",
    "# Initialized using Gaussian or Normalized Distribution"
   ]
  },
  {
   "cell_type": "code",
   "execution_count": null,
   "metadata": {
    "colab": {
     "base_uri": "https://localhost:8080/"
    },
    "id": "iTu6X5vEKx7Y",
    "outputId": "4865a659-9023-4fa4-8482-7471a90e0384"
   },
   "outputs": [
    {
     "data": {
      "text/plain": [
       "(784, 300)"
      ]
     },
     "execution_count": 21,
     "metadata": {
      "tags": []
     },
     "output_type": "execute_result"
    }
   ],
   "source": [
    "weights.shape"
   ]
  },
  {
   "cell_type": "code",
   "execution_count": null,
   "metadata": {
    "colab": {
     "base_uri": "https://localhost:8080/"
    },
    "id": "ZBflP8bZouce",
    "outputId": "14c3af31-b100-4d25-948a-521b8ff596b4"
   },
   "outputs": [
    {
     "data": {
      "text/plain": [
       "(300,)"
      ]
     },
     "execution_count": 22,
     "metadata": {
      "tags": []
     },
     "output_type": "execute_result"
    }
   ],
   "source": [
    "biases.shape"
   ]
  },
  {
   "cell_type": "code",
   "execution_count": null,
   "metadata": {
    "id": "sI5zm4BtK0wk"
   },
   "outputs": [],
   "source": [
    "# Compile\n",
    "# Stochastic Grdient Descent Optimaztion Algorithm\n",
    "model.compile(loss = \"sparse_categorical_crossentropy\",\n",
    "              optimizer = \"sgd\",\n",
    "              metrics = [\"accuracy\"])"
   ]
  },
  {
   "cell_type": "code",
   "execution_count": null,
   "metadata": {
    "id": "BcCQktWZ_BRg"
   },
   "outputs": [],
   "source": [
    "model2.compile(loss = \"categorical_crossentropy\", optimizer = \"sgd\", metrics = [\"accuracy\"])"
   ]
  },
  {
   "cell_type": "markdown",
   "metadata": {
    "id": "ki1L6SGMK43P"
   },
   "source": [
    "This is equivalent to:\n",
    "\n",
    "```\n",
    "model.compile(loss=keras.losses.sparse_categorical_crossentropy,\n",
    "              optimizer=keras.optimizers.SGD(),\n",
    "              metrics=[keras.metrics.sparse_categorical_accuracy])\n",
    "```\n",
    "\n"
   ]
  },
  {
   "cell_type": "markdown",
   "metadata": {
    "id": "nsCS5C4uLrhR"
   },
   "source": [
    "- We use the `sparse_categorical_crossentropy` loss because we have sparse labels (i.e., for each instance, there is just a target class index, from 0 to 9 in this case), and the classes are exclusive. \n",
    "- If instead, we had one target probability per class for each instance (such as one-hot vectors, e.g. [0., 0., 0., 1., 0., 0., 0., 0., 0., 0.] to represent class 3), then we would need to use the `categorical_crossentropy` loss instead. \n",
    "- If we were doing binary classification (with one or more binary labels), then we would use the \"sigmoid\" (i.e., logistic) activation function in the output layer instead of the \"softmax\" activation function, and we would use the `binary_crossentropy` loss."
   ]
  },
  {
   "cell_type": "markdown",
   "metadata": {
    "id": "h3axrIH8ML3b"
   },
   "source": [
    "- If you want to convert sparse labels (i.e., class indices) to one-hot vector labels, use the `keras.utils.to_categorical()` function. \n",
    "- To go the other way round, use the `np.argmax()` function with axis=1."
   ]
  },
  {
   "cell_type": "code",
   "execution_count": null,
   "metadata": {
    "colab": {
     "base_uri": "https://localhost:8080/"
    },
    "id": "z2JXocVP7wOG",
    "outputId": "cc3f3d27-19e8-418d-f5ee-7c316db2bbff"
   },
   "outputs": [
    {
     "name": "stdout",
     "output_type": "stream",
     "text": [
      "(55000, 28, 28)\n",
      "(55000,)\n"
     ]
    }
   ],
   "source": [
    "print(X_train.shape)\n",
    "print(y_train.shape)"
   ]
  },
  {
   "cell_type": "code",
   "execution_count": null,
   "metadata": {
    "id": "FcXrdWOY8CZN"
   },
   "outputs": [],
   "source": [
    "y_train_cat = keras.utils.to_categorical(y_train)\n",
    "y_test_cat = keras.utils.to_categorical(y_test)\n",
    "X_train2 = X_train.reshape(X_train.shape[0], X_train.shape[1], X_train.shape[2])\n",
    "X_test2 = X_test.reshape(X_test.shape[0], X_test.shape[1], X_test.shape[2])"
   ]
  },
  {
   "cell_type": "code",
   "execution_count": null,
   "metadata": {
    "colab": {
     "base_uri": "https://localhost:8080/"
    },
    "id": "QVMASLM591nP",
    "outputId": "c350e99f-877b-49a3-f89f-3aba7bafcb84"
   },
   "outputs": [
    {
     "name": "stdout",
     "output_type": "stream",
     "text": [
      "(55000, 10)\n",
      "(10000, 10)\n",
      "(55000, 28, 28)\n",
      "(10000, 28, 28)\n"
     ]
    }
   ],
   "source": [
    "print(y_train_cat.shape)\n",
    "print(y_test_cat.shape)\n",
    "print(X_train2.shape)\n",
    "print(X_test2.shape)"
   ]
  },
  {
   "cell_type": "code",
   "execution_count": null,
   "metadata": {
    "colab": {
     "base_uri": "https://localhost:8080/"
    },
    "id": "y-asVEl_LTYF",
    "outputId": "fbdc4605-a0a0-4f39-ef21-dfe0dc9cf39a"
   },
   "outputs": [
    {
     "data": {
      "text/plain": [
       "array([[0., 0., 0., ..., 0., 0., 0.],\n",
       "       [1., 0., 0., ..., 0., 0., 0.],\n",
       "       [0., 0., 0., ..., 1., 0., 0.],\n",
       "       ...,\n",
       "       [0., 0., 0., ..., 0., 0., 0.],\n",
       "       [1., 0., 0., ..., 0., 0., 0.],\n",
       "       [0., 0., 0., ..., 0., 0., 0.]], dtype=float32)"
      ]
     },
     "execution_count": 28,
     "metadata": {
      "tags": []
     },
     "output_type": "execute_result"
    }
   ],
   "source": [
    "y_train_cat"
   ]
  },
  {
   "cell_type": "code",
   "execution_count": null,
   "metadata": {
    "colab": {
     "base_uri": "https://localhost:8080/"
    },
    "id": "EUrF8wFUK-xo",
    "outputId": "26e97cf9-3b3c-4de3-d29f-387b3b7b5223"
   },
   "outputs": [
    {
     "name": "stdout",
     "output_type": "stream",
     "text": [
      "Epoch 1/30\n",
      "1719/1719 [==============================] - 7s 2ms/step - loss: 1.0275 - accuracy: 0.6813 - val_loss: 0.5363 - val_accuracy: 0.8110\n",
      "Epoch 2/30\n",
      "1719/1719 [==============================] - 4s 2ms/step - loss: 0.5105 - accuracy: 0.8238 - val_loss: 0.4444 - val_accuracy: 0.8504\n",
      "Epoch 3/30\n",
      "1719/1719 [==============================] - 4s 2ms/step - loss: 0.4592 - accuracy: 0.8384 - val_loss: 0.4140 - val_accuracy: 0.8600\n",
      "Epoch 4/30\n",
      "1719/1719 [==============================] - 4s 2ms/step - loss: 0.4191 - accuracy: 0.8527 - val_loss: 0.4006 - val_accuracy: 0.8670\n",
      "Epoch 5/30\n",
      "1719/1719 [==============================] - 4s 2ms/step - loss: 0.4004 - accuracy: 0.8600 - val_loss: 0.3913 - val_accuracy: 0.8646\n",
      "Epoch 6/30\n",
      "1719/1719 [==============================] - 4s 2ms/step - loss: 0.3817 - accuracy: 0.8672 - val_loss: 0.3902 - val_accuracy: 0.8608\n",
      "Epoch 7/30\n",
      "1719/1719 [==============================] - 4s 2ms/step - loss: 0.3699 - accuracy: 0.8701 - val_loss: 0.3748 - val_accuracy: 0.8694\n",
      "Epoch 8/30\n",
      "1719/1719 [==============================] - 4s 2ms/step - loss: 0.3551 - accuracy: 0.8741 - val_loss: 0.3665 - val_accuracy: 0.8730\n",
      "Epoch 9/30\n",
      "1719/1719 [==============================] - 4s 2ms/step - loss: 0.3460 - accuracy: 0.8781 - val_loss: 0.3430 - val_accuracy: 0.8796\n",
      "Epoch 10/30\n",
      "1719/1719 [==============================] - 4s 2ms/step - loss: 0.3426 - accuracy: 0.8775 - val_loss: 0.3513 - val_accuracy: 0.8740\n",
      "Epoch 11/30\n",
      "1719/1719 [==============================] - 4s 2ms/step - loss: 0.3247 - accuracy: 0.8840 - val_loss: 0.3476 - val_accuracy: 0.8752\n",
      "Epoch 12/30\n",
      "1719/1719 [==============================] - 4s 2ms/step - loss: 0.3136 - accuracy: 0.8874 - val_loss: 0.3464 - val_accuracy: 0.8766\n",
      "Epoch 13/30\n",
      "1719/1719 [==============================] - 4s 2ms/step - loss: 0.3135 - accuracy: 0.8895 - val_loss: 0.3275 - val_accuracy: 0.8818\n",
      "Epoch 14/30\n",
      "1719/1719 [==============================] - 4s 2ms/step - loss: 0.2995 - accuracy: 0.8926 - val_loss: 0.3236 - val_accuracy: 0.8836\n",
      "Epoch 15/30\n",
      "1719/1719 [==============================] - 4s 2ms/step - loss: 0.2974 - accuracy: 0.8939 - val_loss: 0.3328 - val_accuracy: 0.8798\n",
      "Epoch 16/30\n",
      "1719/1719 [==============================] - 4s 2ms/step - loss: 0.2928 - accuracy: 0.8941 - val_loss: 0.3138 - val_accuracy: 0.8868\n",
      "Epoch 17/30\n",
      "1719/1719 [==============================] - 4s 2ms/step - loss: 0.2869 - accuracy: 0.8939 - val_loss: 0.3256 - val_accuracy: 0.8812\n",
      "Epoch 18/30\n",
      "1719/1719 [==============================] - 4s 2ms/step - loss: 0.2793 - accuracy: 0.8998 - val_loss: 0.3182 - val_accuracy: 0.8866\n",
      "Epoch 19/30\n",
      "1719/1719 [==============================] - 4s 2ms/step - loss: 0.2732 - accuracy: 0.9013 - val_loss: 0.3165 - val_accuracy: 0.8822\n",
      "Epoch 20/30\n",
      "1719/1719 [==============================] - 4s 2ms/step - loss: 0.2637 - accuracy: 0.9053 - val_loss: 0.3035 - val_accuracy: 0.8898\n",
      "Epoch 21/30\n",
      "1719/1719 [==============================] - 4s 2ms/step - loss: 0.2655 - accuracy: 0.9059 - val_loss: 0.3079 - val_accuracy: 0.8880\n",
      "Epoch 22/30\n",
      "1719/1719 [==============================] - 4s 2ms/step - loss: 0.2582 - accuracy: 0.9074 - val_loss: 0.3125 - val_accuracy: 0.8846\n",
      "Epoch 23/30\n",
      "1719/1719 [==============================] - 4s 2ms/step - loss: 0.2613 - accuracy: 0.9057 - val_loss: 0.3033 - val_accuracy: 0.8904\n",
      "Epoch 24/30\n",
      "1719/1719 [==============================] - 4s 2ms/step - loss: 0.2511 - accuracy: 0.9092 - val_loss: 0.3026 - val_accuracy: 0.8892\n",
      "Epoch 25/30\n",
      "1719/1719 [==============================] - 4s 2ms/step - loss: 0.2470 - accuracy: 0.9121 - val_loss: 0.3027 - val_accuracy: 0.8896\n",
      "Epoch 26/30\n",
      "1719/1719 [==============================] - 4s 2ms/step - loss: 0.2370 - accuracy: 0.9147 - val_loss: 0.2986 - val_accuracy: 0.8902\n",
      "Epoch 27/30\n",
      "1719/1719 [==============================] - 4s 2ms/step - loss: 0.2371 - accuracy: 0.9142 - val_loss: 0.3014 - val_accuracy: 0.8916\n",
      "Epoch 28/30\n",
      "1719/1719 [==============================] - 4s 2ms/step - loss: 0.2350 - accuracy: 0.9148 - val_loss: 0.2948 - val_accuracy: 0.8952\n",
      "Epoch 29/30\n",
      "1719/1719 [==============================] - 4s 2ms/step - loss: 0.2276 - accuracy: 0.9183 - val_loss: 0.2987 - val_accuracy: 0.8902\n",
      "Epoch 30/30\n",
      "1719/1719 [==============================] - 4s 2ms/step - loss: 0.2303 - accuracy: 0.9177 - val_loss: 0.3043 - val_accuracy: 0.8872\n"
     ]
    }
   ],
   "source": [
    "history = model.fit(X_train, y_train, epochs=30,\n",
    "                    validation_data=(X_valid,y_valid))"
   ]
  },
  {
   "cell_type": "code",
   "execution_count": null,
   "metadata": {
    "colab": {
     "base_uri": "https://localhost:8080/"
    },
    "id": "PcHaKpeV_ZIq",
    "outputId": "65e90b5f-e95c-480f-8c29-06573a6b4616"
   },
   "outputs": [
    {
     "name": "stdout",
     "output_type": "stream",
     "text": [
      "Epoch 1/30\n",
      "1719/1719 [==============================] - 4s 2ms/step - loss: 1.0245 - accuracy: 0.6776\n",
      "Epoch 2/30\n",
      "1719/1719 [==============================] - 4s 2ms/step - loss: 0.5069 - accuracy: 0.8248\n",
      "Epoch 3/30\n",
      "1719/1719 [==============================] - 4s 2ms/step - loss: 0.4463 - accuracy: 0.8437\n",
      "Epoch 4/30\n",
      "1719/1719 [==============================] - 4s 2ms/step - loss: 0.4139 - accuracy: 0.8526\n",
      "Epoch 5/30\n",
      "1719/1719 [==============================] - 4s 2ms/step - loss: 0.4009 - accuracy: 0.8587\n",
      "Epoch 6/30\n",
      "1719/1719 [==============================] - 4s 2ms/step - loss: 0.3793 - accuracy: 0.8665\n",
      "Epoch 7/30\n",
      "1719/1719 [==============================] - 4s 2ms/step - loss: 0.3684 - accuracy: 0.8705\n",
      "Epoch 8/30\n",
      "1719/1719 [==============================] - 4s 2ms/step - loss: 0.3565 - accuracy: 0.8746\n",
      "Epoch 9/30\n",
      "1719/1719 [==============================] - 4s 2ms/step - loss: 0.3388 - accuracy: 0.8808\n",
      "Epoch 10/30\n",
      "1719/1719 [==============================] - 4s 2ms/step - loss: 0.3338 - accuracy: 0.8811\n",
      "Epoch 11/30\n",
      "1719/1719 [==============================] - 4s 2ms/step - loss: 0.3230 - accuracy: 0.8854\n",
      "Epoch 12/30\n",
      "1719/1719 [==============================] - 4s 2ms/step - loss: 0.3159 - accuracy: 0.8867\n",
      "Epoch 13/30\n",
      "1719/1719 [==============================] - 4s 2ms/step - loss: 0.3130 - accuracy: 0.8885\n",
      "Epoch 14/30\n",
      "1719/1719 [==============================] - 4s 2ms/step - loss: 0.3002 - accuracy: 0.8916\n",
      "Epoch 15/30\n",
      "1719/1719 [==============================] - 4s 2ms/step - loss: 0.2974 - accuracy: 0.8945\n",
      "Epoch 16/30\n",
      "1719/1719 [==============================] - 4s 2ms/step - loss: 0.2899 - accuracy: 0.8959\n",
      "Epoch 17/30\n",
      "1719/1719 [==============================] - 4s 2ms/step - loss: 0.2808 - accuracy: 0.9005\n",
      "Epoch 18/30\n",
      "1719/1719 [==============================] - 4s 2ms/step - loss: 0.2708 - accuracy: 0.9029\n",
      "Epoch 19/30\n",
      "1719/1719 [==============================] - 4s 2ms/step - loss: 0.2697 - accuracy: 0.9039\n",
      "Epoch 20/30\n",
      "1719/1719 [==============================] - 4s 2ms/step - loss: 0.2658 - accuracy: 0.9046\n",
      "Epoch 21/30\n",
      "1719/1719 [==============================] - 4s 2ms/step - loss: 0.2665 - accuracy: 0.9052\n",
      "Epoch 22/30\n",
      "1719/1719 [==============================] - 4s 2ms/step - loss: 0.2588 - accuracy: 0.9075\n",
      "Epoch 23/30\n",
      "1719/1719 [==============================] - 4s 2ms/step - loss: 0.2566 - accuracy: 0.9082\n",
      "Epoch 24/30\n",
      "1719/1719 [==============================] - 4s 2ms/step - loss: 0.2477 - accuracy: 0.9105\n",
      "Epoch 25/30\n",
      "1719/1719 [==============================] - 4s 2ms/step - loss: 0.2428 - accuracy: 0.9149\n",
      "Epoch 26/30\n",
      "1719/1719 [==============================] - 4s 2ms/step - loss: 0.2395 - accuracy: 0.9127\n",
      "Epoch 27/30\n",
      "1719/1719 [==============================] - 4s 2ms/step - loss: 0.2400 - accuracy: 0.9129\n",
      "Epoch 28/30\n",
      "1719/1719 [==============================] - 4s 2ms/step - loss: 0.2320 - accuracy: 0.9146\n",
      "Epoch 29/30\n",
      "1719/1719 [==============================] - 4s 2ms/step - loss: 0.2279 - accuracy: 0.9186\n",
      "Epoch 30/30\n",
      "1719/1719 [==============================] - 4s 2ms/step - loss: 0.2230 - accuracy: 0.9217\n"
     ]
    }
   ],
   "source": [
    "history2 = model2.fit(X_train, y_train_cat, epochs=30)"
   ]
  },
  {
   "cell_type": "code",
   "execution_count": null,
   "metadata": {
    "colab": {
     "base_uri": "https://localhost:8080/",
     "height": 328
    },
    "id": "uBNjrpe8LFU4",
    "outputId": "a50caf88-3d98-48bc-a6a6-ad8f18b81e1d"
   },
   "outputs": [
    {
     "data": {
      "image/png": "[encoded data removed]",
      "text/plain": [
       "<Figure size 576x360 with 1 Axes>"
      ]
     },
     "metadata": {
      "needs_background": "light",
      "tags": []
     },
     "output_type": "display_data"
    }
   ],
   "source": [
    "# Plots\n",
    "import pandas as pd\n",
    "pd.DataFrame(history.history).plot(figsize=(8, 5))\n",
    "plt.grid(True)\n",
    "plt.gca().set_ylim(0, 1)\n",
    "plt.show()"
   ]
  },
  {
   "cell_type": "code",
   "execution_count": null,
   "metadata": {
    "colab": {
     "base_uri": "https://localhost:8080/",
     "height": 328
    },
    "id": "nNc2inc7NiAN",
    "outputId": "ceeddc0a-f96b-4d2c-d91c-dca7dea09ae8"
   },
   "outputs": [
    {
     "data": {
      "image/png": "[encoded data removed]",
      "text/plain": [
       "<Figure size 576x360 with 1 Axes>"
      ]
     },
     "metadata": {
      "needs_background": "light",
      "tags": []
     },
     "output_type": "display_data"
    }
   ],
   "source": [
    "# Plots\n",
    "import pandas as pd\n",
    "pd.DataFrame(history2.history).plot(figsize=(8, 5))\n",
    "plt.grid(True)\n",
    "plt.gca().set_ylim(0, 1)\n",
    "plt.show()"
   ]
  },
  {
   "cell_type": "code",
   "execution_count": null,
   "metadata": {
    "colab": {
     "base_uri": "https://localhost:8080/"
    },
    "id": "Jj463oAZLPZH",
    "outputId": "f334e1dd-d060-4a18-ccd6-5b16812d52ad"
   },
   "outputs": [
    {
     "name": "stdout",
     "output_type": "stream",
     "text": [
      "313/313 [==============================] - 1s 2ms/step - loss: 0.3401 - accuracy: 0.8773\n"
     ]
    },
    {
     "data": {
      "text/plain": [
       "[0.3400825262069702, 0.8773000240325928]"
      ]
     },
     "execution_count": 33,
     "metadata": {
      "tags": []
     },
     "output_type": "execute_result"
    }
   ],
   "source": [
    "# Test the model\n",
    "model.evaluate(X_test, y_test)"
   ]
  },
  {
   "cell_type": "code",
   "execution_count": null,
   "metadata": {
    "colab": {
     "base_uri": "https://localhost:8080/"
    },
    "id": "5KJWYCsqNu3d",
    "outputId": "075d6ae9-dda4-4b58-aa5d-30eae583df42"
   },
   "outputs": [
    {
     "name": "stdout",
     "output_type": "stream",
     "text": [
      "313/313 [==============================] - 1s 2ms/step - loss: 0.3421 - accuracy: 0.8769\n"
     ]
    },
    {
     "data": {
      "text/plain": [
       "[0.34207281470298767, 0.8769000172615051]"
      ]
     },
     "execution_count": 36,
     "metadata": {
      "tags": []
     },
     "output_type": "execute_result"
    }
   ],
   "source": [
    "model2.evaluate(X_test2, y_test_cat)"
   ]
  },
  {
   "cell_type": "markdown",
   "metadata": {
    "id": "6XykNxvOMlaN"
   },
   "source": [
    "- Using the trained model to make predictions"
   ]
  },
  {
   "cell_type": "code",
   "execution_count": null,
   "metadata": {
    "colab": {
     "base_uri": "https://localhost:8080/"
    },
    "id": "7ZjmLWSvLSWd",
    "outputId": "e4f4b40f-fba0-4d65-fde6-87d4753d1a23"
   },
   "outputs": [
    {
     "data": {
      "text/plain": [
       "array([[0.  , 0.  , 0.  , 0.  , 0.  , 0.  , 0.  , 0.01, 0.  , 0.99],\n",
       "       [0.  , 0.  , 0.99, 0.  , 0.01, 0.  , 0.01, 0.  , 0.  , 0.  ],\n",
       "       [0.  , 1.  , 0.  , 0.  , 0.  , 0.  , 0.  , 0.  , 0.  , 0.  ]],\n",
       "      dtype=float32)"
      ]
     },
     "execution_count": 37,
     "metadata": {
      "tags": []
     },
     "output_type": "execute_result"
    }
   ],
   "source": [
    "X_new = X_test[:3]\n",
    "y_proba = model.predict(X_new)\n",
    "y_proba.round(2)"
   ]
  },
  {
   "cell_type": "markdown",
   "metadata": {
    "id": "m5d8fZq8Mt0A"
   },
   "source": [
    "- output is probability per class"
   ]
  },
  {
   "cell_type": "code",
   "execution_count": null,
   "metadata": {
    "colab": {
     "base_uri": "https://localhost:8080/"
    },
    "id": "F0v_DPIzLT-h",
    "outputId": "3b8ea4e5-31ec-45f2-b949-22427c311ccf"
   },
   "outputs": [
    {
     "name": "stdout",
     "output_type": "stream",
     "text": [
      "[9 2 1]\n",
      "['Ankle boot' 'Pullover' 'Trouser']\n"
     ]
    },
    {
     "name": "stderr",
     "output_type": "stream",
     "text": [
      "/usr/local/lib/python3.7/dist-packages/tensorflow/python/keras/engine/sequential.py:450: UserWarning: `model.predict_classes()` is deprecated and will be removed after 2021-01-01. Please use instead:* `np.argmax(model.predict(x), axis=-1)`,   if your model does multi-class classification   (e.g. if it uses a `softmax` last-layer activation).* `(model.predict(x) > 0.5).astype(\"int32\")`,   if your model does binary classification   (e.g. if it uses a `sigmoid` last-layer activation).\n",
      "  warnings.warn('`model.predict_classes()` is deprecated and '\n"
     ]
    }
   ],
   "source": [
    "y_pred = model.predict_classes(X_new)\n",
    "print(y_pred)\n",
    "print(np.array(class_names)[y_pred])"
   ]
  },
  {
   "cell_type": "code",
   "execution_count": null,
   "metadata": {
    "colab": {
     "base_uri": "https://localhost:8080/"
    },
    "id": "6-WFTzlhLW4-",
    "outputId": "b631e0fb-d152-4ba3-81ed-a8ebc0ad637f"
   },
   "outputs": [
    {
     "data": {
      "text/plain": [
       "array([9, 2, 1], dtype=uint8)"
      ]
     },
     "execution_count": 39,
     "metadata": {
      "tags": []
     },
     "output_type": "execute_result"
    }
   ],
   "source": [
    "# Verify\n",
    "y_new = y_test[:3]\n",
    "y_new"
   ]
  },
  {
   "cell_type": "code",
   "execution_count": null,
   "metadata": {
    "colab": {
     "base_uri": "https://localhost:8080/",
     "height": 165
    },
    "id": "lqKWnGBnLYhJ",
    "outputId": "96a9c1fb-d806-4efa-95af-52ab9b8c0241"
   },
   "outputs": [
    {
     "data": {
      "image/png": "[encoded data removed]",
      "text/plain": [
       "<Figure size 518.4x172.8 with 3 Axes>"
      ]
     },
     "metadata": {
      "needs_background": "light",
      "tags": []
     },
     "output_type": "display_data"
    }
   ],
   "source": [
    "plt.figure(figsize=(7.2, 2.4))\n",
    "for index, image in enumerate(X_new):\n",
    "    plt.subplot(1, 3, index + 1)\n",
    "    plt.imshow(image, cmap=\"binary\", interpolation=\"nearest\")\n",
    "    plt.axis('off')\n",
    "    plt.title(class_names[y_test[index]], fontsize=12)\n",
    "plt.subplots_adjust(wspace=0.2, hspace=0.5)\n",
    "plt.show()"
   ]
  },
  {
   "cell_type": "markdown",
   "metadata": {
    "id": "n4qxWOqdQxoL"
   },
   "source": [
    "## **Exercise:**\n",
    "Suppose you have an MLP composed of one input layer with 10 neurons, followed by one hidden layer with 50 artificial neurons, and finally one output layer with 3 artificial neurons. All artificial neurons use the ReLU activation function.\n",
    "\n",
    "- What is the shape of the input matrix X?\n",
    "- What are the shapes of the hidden layer’s weight vector Wh and its bias vector bh?\n",
    "- What are the shapes of the output layer’s weight vector Wo and its bias vector bo?\n",
    "- What is the shape of the network’s output matrix Y?\n",
    "- Write the equation that computes the network’s output matrix Y as a function of X, Wh, bh, Wo, and bo."
   ]
  },
  {
   "cell_type": "markdown",
   "metadata": {
    "id": "gzDhrbgsRyN1"
   },
   "source": [
    "# **Training Deep Neural Networks**"
   ]
  },
  {
   "cell_type": "markdown",
   "metadata": {
    "id": "GZqWPIqcR2b7"
   },
   "source": [
    "- **Potential problems**:\n",
    "\n",
    "- You may be faced with the tricky vanishing gradients problem or the related exploding gradients problem. This is when the gradients grow smaller and smaller, or larger and larger, when flowing backward through the DNN during\n",
    "training. Both of these problems make lower layers very hard to train.\n",
    "- You might not have enough training data for such a large network, or it might be too costly to label.\n",
    "- Training may be extremely slow.\n",
    "- A model with millions of parameters would severely risk overfitting the training set, especially if there are not enough training instances or if they are too noisy."
   ]
  },
  {
   "cell_type": "markdown",
   "metadata": {
    "id": "knX95C-GVh2u"
   },
   "source": [
    "**Vanishing/Exploding Gradients Problems**\n",
    "\n",
    "- The Gradient Descent update leaves the lower\n",
    "layers’ connection weights virtually unchanged, and training never converges to a good solution. We call this the vanishing gradients problem. \n",
    "- In some cases, the opposite can happen: the gradients can grow bigger and bigger until layers get insanely\n",
    "large weight updates and the algorithm diverges. This is the exploding gradients problem, which surfaces in recurrent neural networks."
   ]
  },
  {
   "cell_type": "markdown",
   "metadata": {
    "id": "u3Fyz4sm6LVK"
   },
   "source": [
    "- **Leaky ReLU**\n",
    "\n",
    "- $LR(x) = \\max(\\alpha x, x)$\n",
    "\n",
    "- The hyperparameter $\\alpha$ defines how much the function “leaks”: it is the slope of the function for $x < 0$ and is typically set to 0.01."
   ]
  },
  {
   "cell_type": "code",
   "execution_count": null,
   "metadata": {
    "id": "9RO8m04P6IPe"
   },
   "outputs": [],
   "source": [
    "def leaky_relu(z, alpha=0.01):\n",
    "    return np.maximum(apha*z,z)"
   ]
  },
  {
   "cell_type": "markdown",
   "metadata": {
    "id": "1SUlKsRt6pAr"
   },
   "source": [
    "- **Exponential linear unit (ELU)** \n",
    "\n",
    "- $ELU(x) = \\alpha (\\exp(x) - 1), \\text{if} \\,\\, x < 0, \\, \\text{else} \\,\\, x$"
   ]
  },
  {
   "cell_type": "markdown",
   "metadata": {
    "id": "IcXMIYa789zQ"
   },
   "source": [
    "## **Batch Normalization**"
   ]
  },
  {
   "cell_type": "markdown",
   "metadata": {
    "id": "CEBpkaQI9IBB"
   },
   "source": [
    "- It consists of adding an operation in the model just before or after the activation function of each\n",
    "hidden layer. \n",
    "\n",
    "- This operation simply zero-centers and normalizes each input, then scales and shifts the result using two new parameter vectors per layer: one for scaling,\n",
    "the other for shifting. \n",
    "\n",
    "- In other words, the operation lets the model learn the optimal scale and mean of each of the layer’s inputs. \n",
    "\n",
    "- In order to zero-center and normalize the inputs, the algorithm needs to estimate each input’s mean and standard deviation. \n",
    "\n",
    "- It does so by evaluating the mean and standard deviation of the input over the current mini-batch (hence the name “Batch Normalization”). "
   ]
  },
  {
   "cell_type": "code",
   "execution_count": null,
   "metadata": {
    "id": "IS8zVn8a_LeF"
   },
   "outputs": [],
   "source": [
    "model = keras.models.Sequential([\n",
    "    keras.layers.Flatten(input_shape=[28, 28]),\n",
    "    keras.layers.BatchNormalization(),\n",
    "    keras.layers.Dense(300, activation=\"relu\"),\n",
    "    keras.layers.BatchNormalization(),\n",
    "    keras.layers.Dense(100, activation=\"relu\"),\n",
    "    keras.layers.BatchNormalization(),\n",
    "    keras.layers.Dense(10, activation=\"softmax\")\n",
    "])"
   ]
  },
  {
   "cell_type": "code",
   "execution_count": null,
   "metadata": {
    "colab": {
     "base_uri": "https://localhost:8080/"
    },
    "id": "1_JNlXYq_N9e",
    "outputId": "49ea10fc-cb04-4890-cb25-4040622859d7"
   },
   "outputs": [
    {
     "name": "stdout",
     "output_type": "stream",
     "text": [
      "Model: \"sequential_2\"\n",
      "_________________________________________________________________\n",
      "Layer (type)                 Output Shape              Param #   \n",
      "=================================================================\n",
      "flatten_2 (Flatten)          (None, 784)               0         \n",
      "_________________________________________________________________\n",
      "batch_normalization (BatchNo (None, 784)               3136      \n",
      "_________________________________________________________________\n",
      "dense_6 (Dense)              (None, 300)               235500    \n",
      "_________________________________________________________________\n",
      "batch_normalization_1 (Batch (None, 300)               1200      \n",
      "_________________________________________________________________\n",
      "dense_7 (Dense)              (None, 100)               30100     \n",
      "_________________________________________________________________\n",
      "batch_normalization_2 (Batch (None, 100)               400       \n",
      "_________________________________________________________________\n",
      "dense_8 (Dense)              (None, 10)                1010      \n",
      "=================================================================\n",
      "Total params: 271,346\n",
      "Trainable params: 268,978\n",
      "Non-trainable params: 2,368\n",
      "_________________________________________________________________\n"
     ]
    }
   ],
   "source": [
    "model.summary()"
   ]
  },
  {
   "cell_type": "code",
   "execution_count": null,
   "metadata": {
    "colab": {
     "base_uri": "https://localhost:8080/"
    },
    "id": "AHhcci9r_RUj",
    "outputId": "8c748b7b-e1bd-41ec-f9c2-6741c2fbaf01"
   },
   "outputs": [
    {
     "data": {
      "text/plain": [
       "[('batch_normalization/gamma:0', True),\n",
       " ('batch_normalization/beta:0', True),\n",
       " ('batch_normalization/moving_mean:0', False),\n",
       " ('batch_normalization/moving_variance:0', False)]"
      ]
     },
     "execution_count": 29,
     "metadata": {
      "tags": []
     },
     "output_type": "execute_result"
    }
   ],
   "source": [
    "bn1 = model.layers[1]\n",
    "[(var.name, var.trainable) for var in bn1.variables]"
   ]
  },
  {
   "cell_type": "markdown",
   "metadata": {
    "id": "-NpQenH0C6z7"
   },
   "source": [
    "## **Gradient Clipping**"
   ]
  },
  {
   "cell_type": "markdown",
   "metadata": {
    "id": "ay0R9oz7DlVe"
   },
   "source": [
    "- Another popular technique to mitigate the exploding gradients problem is to clip the gradients during backpropagation so that they never exceed some threshold. This is called Gradient Clipping."
   ]
  },
  {
   "cell_type": "markdown",
   "metadata": {
    "id": "ZUOlV1fTG8f6"
   },
   "source": [
    "- All Keras optimizers accept clipnorm or clipvalue arguments:"
   ]
  },
  {
   "cell_type": "code",
   "execution_count": null,
   "metadata": {
    "id": "51gpikMUG9cb"
   },
   "outputs": [],
   "source": [
    "optimizer = keras.optimizers.SGD(None)\n",
    "# or\n",
    "optimizer = keras.optimizers.SGD(None)"
   ]
  },
  {
   "cell_type": "markdown",
   "metadata": {
    "id": "7Px9p9wmHT-3"
   },
   "source": [
    "- This optimizer will clip every component of the gradient vector to a value between –1.0 and 1.0. \n",
    "\n",
    "- This means that all the partial derivatives of the loss (with regard to each and every trainable parameter) will be clipped between –1.0 and 1.0."
   ]
  },
  {
   "cell_type": "markdown",
   "metadata": {
    "id": "UYXOvpKYHlFA"
   },
   "source": [
    "## **Faster Optimizers**"
   ]
  },
  {
   "cell_type": "markdown",
   "metadata": {
    "id": "YeiJmRwFH6gA"
   },
   "source": [
    "### **Momentum Optimization**"
   ]
  },
  {
   "cell_type": "markdown",
   "metadata": {
    "id": "pqAWEIp-IIZq"
   },
   "source": [
    "- Imagine a bowling ball rolling down a gentle slope on a smooth surface: it will start out slowly, but it will quickly pick up momentum until it eventually reaches terminal velocity (if there is some friction or air resistance). This is the very simple idea behind\n",
    "momentum optimization.\n",
    "\n",
    "- In contrast, regular Gradient Descent will simply take small, regular steps down the slope, so the algorithm will take much more time to reach the bottom.\n",
    "\n",
    "- GD: $\\theta \\gets \\theta - \\eta \\nabla J(\\theta) $\n",
    "\n",
    "- Momentum: $m \\gets \\beta m - \\eta \\nabla J(\\theta)$; $\\theta \\gets \\theta + m$\n",
    "\n",
    "- To simulate some sort of friction mechanism and prevent the momentum from growing too large, the algorithm introduces a new hyperparameter $\\beta$, called the momentum, which must be set between 0 (high friction) and 1 (no friction). A typical momentum value is 0.9.\n",
    "\n",
    "\n",
    "- Gradient Descent goes down the steep slope quite fast, but then it takes a very long time to go down the valley. In contrast, momentum optimization will roll down the valley faster and faster until it reaches the bottom (the optimum).\n",
    "   \n",
    "            "
   ]
  },
  {
   "cell_type": "code",
   "execution_count": null,
   "metadata": {
    "id": "IvH2Ni3bIHqi"
   },
   "outputs": [],
   "source": [
    "optimizer = keras.optimizers.SGD(lr=0.001 , momentum=0.9)"
   ]
  },
  {
   "cell_type": "markdown",
   "metadata": {
    "id": "iw0956OaOKai"
   },
   "source": [
    "- The one drawback of momentum optimization is that it adds yet another hyperparameter to tune."
   ]
  },
  {
   "cell_type": "markdown",
   "metadata": {
    "id": "W1ocT6h9OPC2"
   },
   "source": [
    "### **Nesterov Accelerated Gradient**"
   ]
  },
  {
   "cell_type": "markdown",
   "metadata": {
    "id": "V_I15Il9OTF-"
   },
   "source": [
    "- The Nesterov Accelerated Gradient (NAG) method, also known as Nesterov momentum optimization, measures the gradient of the cost function not at the local position θ but slightly ahead in the direction of the momentum, at θ + βm\n",
    "\n",
    "- $m \\gets \\beta m - \\eta \\nabla J(\\theta + \\beta m);\\,\\, \\theta \\gets \\theta + m$\n",
    "\n",
    "- This small tweak works because in general the momentum vector will be pointing in the right direction (i.e., toward the optimum), so it will be slightly more accurate to use the gradient measured a bit farther in that direction rather than the gradient at the original position."
   ]
  },
  {
   "cell_type": "code",
   "execution_count": null,
   "metadata": {
    "id": "rUkO1sOCcbW8"
   },
   "outputs": [],
   "source": [
    "optimizer = keras.optimizers.SGD(lr=0.001 , momentum=0.9, nesterov = True)"
   ]
  },
  {
   "cell_type": "markdown",
   "metadata": {
    "id": "Tljz100haXu6"
   },
   "source": [
    "### **AdaGrad**"
   ]
  },
  {
   "cell_type": "markdown",
   "metadata": {
    "id": "RDTcOQSIab0g"
   },
   "source": [
    "- Consider the elongated bowl problem again: Gradient Descent starts by quickly going down the steepest slope, which does not point straight toward the global optimum,\n",
    "then it very slowly goes down to the bottom of the valley. \n",
    "\n",
    "- It would be nice if the algorithm could correct its direction earlier to point a bit more toward the global optimum. \n",
    "\n",
    "- The AdaGrad algorithm achieves this correction by scaling down the gradient vector along the steepest dimensions.\n",
    "\n",
    "- $s \\gets s + \\nabla J(\\theta) \\otimes \\nabla J(\\theta); \\,\\, \\theta \\gets \\theta - \\eta \\nabla J(\\theta) \\oslash \\sqrt{s + \\epsilon} $\n",
    "\n",
    "- The first step accumulates the square of the gradients into the vector s (recall that the ⊗ symbol represents the element-wise multiplication). \n",
    "\n",
    "- The second step is almost identical to Gradient Descent, but with one big difference: the gradient vector is scaled down by a factor of $\\sqrt{s + \\epsilon}$ (the ⊘ symbol represents the element-wise division, and ε is a smoothing term to avoid division by zero, typically\n",
    "set to $10^{-10}$). \n",
    "\n",
    "- This algorithm decays the learning rate, but it does so faster for steep dimensions than for dimensions with gentler slopes. This is called an adaptive learning rate.\n",
    "It helps point the resulting updates more directly toward the global optimum."
   ]
  },
  {
   "cell_type": "code",
   "execution_count": null,
   "metadata": {
    "id": "ouJqCtt4ceDr"
   },
   "outputs": [],
   "source": [
    "optimizer = keras.optimizers.Adagrad(lr=0.001)"
   ]
  },
  {
   "cell_type": "markdown",
   "metadata": {
    "id": "sgtfDrwab9aM"
   },
   "source": [
    "### **RMSProp**"
   ]
  },
  {
   "cell_type": "markdown",
   "metadata": {
    "id": "uVQweNiZcCfk"
   },
   "source": [
    "- AdaGrad runs the risk of slowing down a bit too fast and never converging to the global optimum. \n",
    "\n",
    "- The RMSProp algorithm fixes this by accumulating\n",
    "only the gradients from the most recent iterations (as opposed to all the gradients since the beginning of training). It does so by using exponential decay in the first step:\n",
    "\n",
    "- $s \\gets \\beta s + (1 - \\beta) \\nabla J(\\theta) \\otimes \\nabla J(\\theta); \\,\\, \\theta \\gets \\theta - \\eta \\nabla J(\\theta) \\oslash \\sqrt{s + \\epsilon} $\n",
    "\n",
    "- The decay rate $\\beta$ is typically set to 0.9. "
   ]
  },
  {
   "cell_type": "code",
   "execution_count": null,
   "metadata": {
    "id": "Tpebs6eZa_xE"
   },
   "outputs": [],
   "source": [
    "optimizer = keras.optimizers.Adam(lr=0.001)"
   ]
  },
  {
   "cell_type": "markdown",
   "metadata": {
    "id": "ZeP0SN1ocjQ1"
   },
   "source": [
    "### **Adam Optimization**"
   ]
  },
  {
   "cell_type": "markdown",
   "metadata": {
    "id": "SWqC92ejcnto"
   },
   "source": [
    "- Adam, which stands for adaptive moment estimation, combines the ideas of momentum optimization and RMSProp: just like momentum optimization, it keeps track of an exponentially decaying average of past gradients; and just like RMSProp, it keeps track of an exponentially decaying average of past squared gradients:\n",
    "\n",
    "- $m \\gets \\beta_1 m - (1 - \\beta_1) \\nabla J(\\theta)$\n",
    "- $s \\gets \\beta_2 s + (1 - \\beta_2) \\nabla J(\\theta) \\otimes \\nabla J(\\theta)$\n",
    "- $\\hat{m} \\gets \\frac{m}{1 - \\beta_1^t}$\n",
    "- $\\hat{s} \\gets \\frac{s}{1 - \\beta_2^t}$\n",
    "- $\\theta \\gets \\theta + \\eta \\hat{m} \\oslash \\sqrt{\\hat{s} + \\epsilon}$\n",
    "\n",
    "- $t$ represents the iteration number (starting at 1)\n",
    "\n",
    "- Step 1 computes an exponentially decaying average rather than an exponentially decaying sum, but these are actually equivalent except for a constant factor (the decaying average is just $(1 - \\beta_1)$ times the decaying sum). \n",
    "\n",
    "- In steps 3 and 4, since $m$ and $s$ are initialized at 0, they will be biased toward 0 at the beginning of training, so these two steps will help boost $m$ and $s$ at the beginning of training.\n",
    "\n",
    "- The momentum decay hyperparameter $\\beta_1$ is typically initialized to 0.9, while the scaling decay hyperparameter $\\beta_2$ is often initialized to 0.999. "
   ]
  },
  {
   "cell_type": "code",
   "execution_count": null,
   "metadata": {
    "id": "xygJXWzOeYY9"
   },
   "outputs": [],
   "source": [
    "optimizer = keras.optimizers.None"
   ]
  },
  {
   "cell_type": "markdown",
   "metadata": {
    "id": "uIwYP1DmebC3"
   },
   "source": [
    "- Since Adam is an adaptive learning rate algorithm (like AdaGrad and RMSProp), it requires less tuning of the learning rate hyperparameter η. \n",
    "- We can often use the default value η = 0.001, making Adam even easier to use than Gradient Descent."
   ]
  },
  {
   "cell_type": "markdown",
   "metadata": {
    "id": "GnQsdpPYe1vK"
   },
   "source": [
    "## **DropOut**"
   ]
  },
  {
   "cell_type": "markdown",
   "metadata": {
    "id": "RMtwFm5Ee3ys"
   },
   "source": [
    "- Dropout is one of the most popular regularization techniques for deep neural networks.\n",
    "\n",
    "- At every training step, every neuron (including the\n",
    "input neurons, but always excluding the output neurons) has a probability $p$ of being temporarily “dropped out,” meaning it will be entirely ignored during this training\n",
    "step, but it may be active during the next step.\n",
    "\n",
    "- The hyperparameter $p$ is called the dropout rate, and it is typically set between 10% and 50%."
   ]
  },
  {
   "cell_type": "code",
   "execution_count": null,
   "metadata": {
    "colab": {
     "base_uri": "https://localhost:8080/"
    },
    "id": "7ixx1SlCgusK",
    "outputId": "75eebda5-0e5d-4a3d-acd1-17d8924193e4"
   },
   "outputs": [
    {
     "name": "stdout",
     "output_type": "stream",
     "text": [
      "Epoch 1/20\n",
      "1719/1719 [==============================] - 4s 2ms/step - loss: 0.5903 - accuracy: 0.7905 - val_loss: 0.3838 - val_accuracy: 0.8644\n",
      "Epoch 2/20\n",
      "1719/1719 [==============================] - 4s 2ms/step - loss: 0.3730 - accuracy: 0.8617 - val_loss: 0.3480 - val_accuracy: 0.8714\n",
      "Epoch 3/20\n",
      "1719/1719 [==============================] - 4s 2ms/step - loss: 0.3305 - accuracy: 0.8764 - val_loss: 0.3195 - val_accuracy: 0.8818\n",
      "Epoch 4/20\n",
      "1719/1719 [==============================] - 4s 2ms/step - loss: 0.3072 - accuracy: 0.8837 - val_loss: 0.3364 - val_accuracy: 0.8780\n",
      "Epoch 5/20\n",
      "1719/1719 [==============================] - 4s 2ms/step - loss: 0.2891 - accuracy: 0.8935 - val_loss: 0.3195 - val_accuracy: 0.8804\n",
      "Epoch 6/20\n",
      "1719/1719 [==============================] - 4s 2ms/step - loss: 0.2721 - accuracy: 0.8994 - val_loss: 0.2987 - val_accuracy: 0.8932\n",
      "Epoch 7/20\n",
      "1719/1719 [==============================] - 4s 2ms/step - loss: 0.2546 - accuracy: 0.9017 - val_loss: 0.2951 - val_accuracy: 0.8916\n",
      "Epoch 8/20\n",
      "1719/1719 [==============================] - 4s 2ms/step - loss: 0.2413 - accuracy: 0.9072 - val_loss: 0.3155 - val_accuracy: 0.8890\n",
      "Epoch 9/20\n",
      "1719/1719 [==============================] - 4s 2ms/step - loss: 0.2347 - accuracy: 0.9107 - val_loss: 0.3301 - val_accuracy: 0.8868\n",
      "Epoch 10/20\n",
      "1719/1719 [==============================] - 4s 2ms/step - loss: 0.2237 - accuracy: 0.9154 - val_loss: 0.3147 - val_accuracy: 0.8924\n",
      "Epoch 11/20\n",
      "1719/1719 [==============================] - 4s 2ms/step - loss: 0.2037 - accuracy: 0.9230 - val_loss: 0.3468 - val_accuracy: 0.8872\n",
      "Epoch 12/20\n",
      "1719/1719 [==============================] - 4s 2ms/step - loss: 0.2008 - accuracy: 0.9228 - val_loss: 0.3119 - val_accuracy: 0.8952\n",
      "Epoch 13/20\n",
      "1719/1719 [==============================] - 4s 2ms/step - loss: 0.1954 - accuracy: 0.9243 - val_loss: 0.3498 - val_accuracy: 0.8928\n",
      "Epoch 14/20\n",
      "1719/1719 [==============================] - 4s 2ms/step - loss: 0.1875 - accuracy: 0.9287 - val_loss: 0.3167 - val_accuracy: 0.8958\n",
      "Epoch 15/20\n",
      "1719/1719 [==============================] - 4s 2ms/step - loss: 0.1767 - accuracy: 0.9319 - val_loss: 0.3155 - val_accuracy: 0.9000\n",
      "Epoch 16/20\n",
      "1719/1719 [==============================] - 4s 2ms/step - loss: 0.1701 - accuracy: 0.9352 - val_loss: 0.3323 - val_accuracy: 0.8932\n",
      "Epoch 17/20\n",
      "1719/1719 [==============================] - 4s 2ms/step - loss: 0.1662 - accuracy: 0.9359 - val_loss: 0.3441 - val_accuracy: 0.8954\n",
      "Epoch 18/20\n",
      "1719/1719 [==============================] - 4s 2ms/step - loss: 0.1590 - accuracy: 0.9372 - val_loss: 0.3556 - val_accuracy: 0.8956\n",
      "Epoch 19/20\n",
      "1719/1719 [==============================] - 4s 2ms/step - loss: 0.1531 - accuracy: 0.9397 - val_loss: 0.3791 - val_accuracy: 0.8974\n",
      "Epoch 20/20\n",
      "1719/1719 [==============================] - 4s 2ms/step - loss: 0.1506 - accuracy: 0.9404 - val_loss: 0.3806 - val_accuracy: 0.8934\n"
     ]
    }
   ],
   "source": [
    "# Without Dropout\n",
    "model = keras.models.Sequential([\n",
    "    keras.layers.Flatten(input_shape=[28, 28]),\n",
    "    keras.layers.Dense(300, activation=\"elu\", kernel_initializer=\"he_normal\"),\n",
    "    keras.layers.Dense(100, activation=\"elu\", kernel_initializer=\"he_normal\"),\n",
    "    keras.layers.Dense(10, activation=\"softmax\")\n",
    "])\n",
    "model.compile(loss=\"sparse_categorical_crossentropy\", optimizer=\"adam\", metrics=[\"accuracy\"])\n",
    "n_epochs = 20\n",
    "history = model.fit(X_train,y_train, epochs=n_epochs,\n",
    "                    validation_data=(X_valid,y_valid))"
   ]
  },
  {
   "cell_type": "code",
   "execution_count": null,
   "metadata": {
    "colab": {
     "base_uri": "https://localhost:8080/"
    },
    "id": "skc7Oo8JfrM2",
    "outputId": "d1b0ee31-a64c-406d-8a5e-2bd9ddc0ddfb"
   },
   "outputs": [
    {
     "name": "stdout",
     "output_type": "stream",
     "text": [
      "Epoch 1/20\n",
      "1719/1719 [==============================] - 4s 2ms/step - loss: 0.9402 - accuracy: 0.6768 - val_loss: 0.4321 - val_accuracy: 0.8492\n",
      "Epoch 2/20\n",
      "1719/1719 [==============================] - 4s 2ms/step - loss: 0.5570 - accuracy: 0.7954 - val_loss: 0.4026 - val_accuracy: 0.8466\n",
      "Epoch 3/20\n",
      "1719/1719 [==============================] - 4s 2ms/step - loss: 0.4982 - accuracy: 0.8185 - val_loss: 0.4025 - val_accuracy: 0.8558\n",
      "Epoch 4/20\n",
      "1719/1719 [==============================] - 4s 2ms/step - loss: 0.4885 - accuracy: 0.8205 - val_loss: 0.3738 - val_accuracy: 0.8560\n",
      "Epoch 5/20\n",
      "1719/1719 [==============================] - 4s 2ms/step - loss: 0.4633 - accuracy: 0.8303 - val_loss: 0.3689 - val_accuracy: 0.8658\n",
      "Epoch 6/20\n",
      "1719/1719 [==============================] - 4s 2ms/step - loss: 0.4536 - accuracy: 0.8311 - val_loss: 0.3615 - val_accuracy: 0.8690\n",
      "Epoch 7/20\n",
      "1719/1719 [==============================] - 4s 2ms/step - loss: 0.4405 - accuracy: 0.8378 - val_loss: 0.3527 - val_accuracy: 0.8668\n",
      "Epoch 8/20\n",
      "1719/1719 [==============================] - 4s 2ms/step - loss: 0.4310 - accuracy: 0.8436 - val_loss: 0.3481 - val_accuracy: 0.8668\n",
      "Epoch 9/20\n",
      "1719/1719 [==============================] - 4s 2ms/step - loss: 0.4240 - accuracy: 0.8432 - val_loss: 0.3255 - val_accuracy: 0.8842\n",
      "Epoch 10/20\n",
      "1719/1719 [==============================] - 4s 2ms/step - loss: 0.4160 - accuracy: 0.8470 - val_loss: 0.3333 - val_accuracy: 0.8766\n",
      "Epoch 11/20\n",
      "1719/1719 [==============================] - 4s 2ms/step - loss: 0.4083 - accuracy: 0.8504 - val_loss: 0.3294 - val_accuracy: 0.8772\n",
      "Epoch 12/20\n",
      "1719/1719 [==============================] - 4s 2ms/step - loss: 0.4046 - accuracy: 0.8469 - val_loss: 0.3396 - val_accuracy: 0.8672\n",
      "Epoch 13/20\n",
      "1719/1719 [==============================] - 4s 2ms/step - loss: 0.4050 - accuracy: 0.8511 - val_loss: 0.3303 - val_accuracy: 0.8752\n",
      "Epoch 14/20\n",
      "1719/1719 [==============================] - 4s 2ms/step - loss: 0.4007 - accuracy: 0.8522 - val_loss: 0.3198 - val_accuracy: 0.8766\n",
      "Epoch 15/20\n",
      "1719/1719 [==============================] - 4s 2ms/step - loss: 0.3977 - accuracy: 0.8553 - val_loss: 0.3065 - val_accuracy: 0.8860\n",
      "Epoch 16/20\n",
      "1719/1719 [==============================] - 4s 2ms/step - loss: 0.3893 - accuracy: 0.8551 - val_loss: 0.3232 - val_accuracy: 0.8794\n",
      "Epoch 17/20\n",
      "1719/1719 [==============================] - 4s 2ms/step - loss: 0.3827 - accuracy: 0.8593 - val_loss: 0.3137 - val_accuracy: 0.8864\n",
      "Epoch 18/20\n",
      "1719/1719 [==============================] - 4s 2ms/step - loss: 0.3735 - accuracy: 0.8596 - val_loss: 0.3075 - val_accuracy: 0.8856\n",
      "Epoch 19/20\n",
      "1719/1719 [==============================] - 4s 2ms/step - loss: 0.3824 - accuracy: 0.8566 - val_loss: 0.3192 - val_accuracy: 0.8836\n",
      "Epoch 20/20\n",
      "1719/1719 [==============================] - 4s 2ms/step - loss: 0.3772 - accuracy: 0.8590 - val_loss: 0.3230 - val_accuracy: 0.8814\n"
     ]
    }
   ],
   "source": [
    "# With Dropout\n",
    "model_do = keras.models.Sequential([\n",
    "    keras.layers.Flatten(input_shape=[28, 28]),\n",
    "    keras.layers.Dropout(0.3),\n",
    "    keras.layers.Dense(300, activation=\"elu\", kernel_initializer=\"he_normal\"),\n",
    "    keras.layers.Dropout(0.3),\n",
    "    keras.layers.Dense(100, activation=\"elu\", kernel_initializer=\"he_normal\"),\n",
    "    keras.layers.Dropout(0.5),\n",
    "    keras.layers.Dense(10, activation=\"softmax\")\n",
    "])\n",
    "model_do.compile(loss=\"sparse_categorical_crossentropy\", optimizer=\"adam\", metrics=[\"accuracy\"])\n",
    "n_epochs = 20\n",
    "history = model_do.fit(X_train, y_train, epochs=n_epochs,\n",
    "                    validation_data=(X_valid, y_valid))"
   ]
  },
  {
   "cell_type": "code",
   "execution_count": null,
   "metadata": {
    "id": "mvlNGhalNqUV"
   },
   "outputs": [],
   "source": []
  }
 ],
 "metadata": {
  "accelerator": "GPU",
  "colab": {
   "collapsed_sections": [],
   "name": "Copy of M3_Advances_CNN_Part_A.ipynb",
   "provenance": []
  },
  "kernelspec": {
   "display_name": "Python 3",
   "language": "python",
   "name": "python3"
  },
  "language_info": {
   "codemirror_mode": {
    "name": "ipython",
    "version": 3
   },
   "file_extension": ".py",
   "mimetype": "text/x-python",
   "name": "python",
   "nbconvert_exporter": "python",
   "pygments_lexer": "ipython3",
   "version": "3.7.4"
  }
 },
 "nbformat": 4,
 "nbformat_minor": 1
}
