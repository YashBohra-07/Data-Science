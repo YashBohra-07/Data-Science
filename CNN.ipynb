{
  "nbformat": 4,
  "nbformat_minor": 0,
  "metadata": {
    "colab": {
      "name": "M3_Assignment.ipynb",
      "provenance": [],
      "collapsed_sections": []
    },
    "kernelspec": {
      "name": "python3",
      "display_name": "Python 3"
    },
    "accelerator": "GPU"
  },
  "cells": [
    {
      "cell_type": "markdown",
      "metadata": {
        "id": "b75huF18rrQT"
      },
      "source": [
        "# Importing Modules"
      ]
    },
    {
      "cell_type": "code",
      "metadata": {
        "id": "bL2gzPFjp2pW"
      },
      "source": [
        "import numpy as np\n",
        "import os\n",
        "import pandas as pd\n",
        "import sklearn\n",
        "from functools import partial\n",
        "\n",
        "import tensorflow\n",
        "from tensorflow import keras\n",
        "from keras.layers import Conv2D, BatchNormalization, Flatten, Dense, MaxPooling2D, Dropout, Activation\n",
        "from keras.models import Sequential\n",
        "from keras.optimizers import SGD, Adam\n",
        "from keras.datasets.fashion_mnist import load_data\n",
        "from sklearn.metrics import accuracy_score, precision_score, recall_score, f1_score, roc_auc_score, roc_curve, classification_report\n",
        "\n",
        "%matplotlib inline\n",
        "import matplotlib as mpl\n",
        "import matplotlib.pyplot as plt\n",
        "mpl.rc('axes', labelsize=14)\n",
        "mpl.rc('xtick', labelsize=12)\n",
        "mpl.rc('ytick', labelsize=12)"
      ],
      "execution_count": null,
      "outputs": []
    },
    {
      "cell_type": "markdown",
      "metadata": {
        "id": "Z4Jk8dvtrxLa"
      },
      "source": [
        "# Loading the Datasets"
      ]
    },
    {
      "cell_type": "code",
      "metadata": {
        "id": "A7XiHpJWrqF6"
      },
      "source": [
        "(X_train_full, y_train_full), (X_test, y_test) = load_data()"
      ],
      "execution_count": null,
      "outputs": []
    },
    {
      "cell_type": "code",
      "metadata": {
        "colab": {
          "base_uri": "https://localhost:8080/"
        },
        "id": "80ynSElusQ8W",
        "outputId": "374d9e19-a53f-42b9-d9d3-c77c95dcf978"
      },
      "source": [
        "print('X_train_full shape:', X_train_full.shape)\n",
        "print('y_train_full shape:', y_train_full.shape)\n",
        "print('X_test shape:', X_test.shape)\n",
        "print('y_test shape:', y_test.shape)"
      ],
      "execution_count": null,
      "outputs": [
        {
          "output_type": "stream",
          "text": [
            "X_train_full shape: (60000, 28, 28)\n",
            "y_train_full shape: (60000,)\n",
            "X_test shape: (10000, 28, 28)\n",
            "y_test shape: (10000,)\n"
          ],
          "name": "stdout"
        }
      ]
    },
    {
      "cell_type": "markdown",
      "metadata": {
        "id": "zSvOPcr2tRpC"
      },
      "source": [
        "# Data Pre-processing"
      ]
    },
    {
      "cell_type": "markdown",
      "metadata": {
        "id": "5EC1zS8WtXnj"
      },
      "source": [
        "## Data Splitting "
      ]
    },
    {
      "cell_type": "code",
      "metadata": {
        "id": "qXe370L8sh0c"
      },
      "source": [
        "X_valid, X_train = X_train_full[:5000] / 255., X_train_full[5000:] / 255.  #Normalizing\n",
        "y_valid, y_train = y_train_full[:5000], y_train_full[5000:]\n",
        "X_test = X_test / 255."
      ],
      "execution_count": null,
      "outputs": []
    },
    {
      "cell_type": "code",
      "metadata": {
        "colab": {
          "base_uri": "https://localhost:8080/"
        },
        "id": "BPKpFFE-tpxb",
        "outputId": "57e6faad-ad84-4639-ce5b-0f9903645228"
      },
      "source": [
        "print('X_train shape:', X_train.shape)\n",
        "print('y_train shape:', y_train.shape)\n",
        "print('X_valid shape:', X_valid.shape)\n",
        "print('y_valid shape:', y_valid.shape)"
      ],
      "execution_count": null,
      "outputs": [
        {
          "output_type": "stream",
          "text": [
            "X_train shape: (55000, 28, 28)\n",
            "y_train shape: (55000,)\n",
            "X_valid shape: (5000, 28, 28)\n",
            "y_valid shape: (5000,)\n"
          ],
          "name": "stdout"
        }
      ]
    },
    {
      "cell_type": "code",
      "metadata": {
        "id": "mT6EqoMgvVek"
      },
      "source": [
        "class_names = [\"T-shirt/top\", \"Trouser\", \"Pullover\", \"Dress\", \"Coat\",\n",
        "               \"Sandal\", \"Shirt\", \"Sneaker\", \"Bag\", \"Ankle boot\"]"
      ],
      "execution_count": null,
      "outputs": []
    },
    {
      "cell_type": "markdown",
      "metadata": {
        "id": "lizdvSEovBWN"
      },
      "source": [
        "# Data Visualization"
      ]
    },
    {
      "cell_type": "code",
      "metadata": {
        "colab": {
          "base_uri": "https://localhost:8080/",
          "height": 266
        },
        "id": "DyFhz_LEvF6O",
        "outputId": "91f9963b-00c5-4a12-a6dd-94c8aaf3071d"
      },
      "source": [
        "print(class_names[y_train[0]])\n",
        "plt.imshow(X_train[0], cmap='binary')\n",
        "plt.axis('off')\n",
        "plt.show()"
      ],
      "execution_count": null,
      "outputs": [
        {
          "output_type": "stream",
          "text": [
            "Coat\n"
          ],
          "name": "stdout"
        },
        {
          "output_type": "display_data",
          "data": {
            "image/png": "[encoded data removed]",
            "text/plain": [
              "<Figure size 432x288 with 1 Axes>"
            ]
          },
          "metadata": {
            "tags": [],
            "needs_background": "light"
          }
        }
      ]
    },
    {
      "cell_type": "code",
      "metadata": {
        "colab": {
          "base_uri": "https://localhost:8080/",
          "height": 308
        },
        "id": "UA2OnC9TvdS1",
        "outputId": "b72c7220-60a9-4d4e-bb7a-e3d671ac7e45"
      },
      "source": [
        "n_rows = 4\n",
        "n_cols = 10\n",
        "plt.figure(figsize=(n_cols * 1.2, n_rows * 1.2))\n",
        "for row in range(n_rows):\n",
        "    for col in range(n_cols):\n",
        "        index = n_cols * row + col\n",
        "        plt.subplot(n_rows, n_cols, index + 1)\n",
        "        plt.imshow(X_train[index], cmap=\"binary\", interpolation=\"nearest\")\n",
        "        plt.axis('off')\n",
        "        plt.title(class_names[y_train[index]], fontsize=12)\n",
        "plt.subplots_adjust(wspace=0.2, hspace=0.5)\n",
        "plt.show()"
      ],
      "execution_count": null,
      "outputs": [
        {
          "output_type": "display_data",
          "data": {
            "image/png": "[encoded data removed]",
            "text/plain": [
              "<Figure size 864x345.6 with 40 Axes>"
            ]
          },
          "metadata": {
            "tags": [],
            "needs_background": "light"
          }
        }
      ]
    },
    {
      "cell_type": "code",
      "metadata": {
        "id": "-qJ3ricil0JY"
      },
      "source": [
        "X_train = X_train.reshape(X_train.shape[0], X_train.shape[1], X_train.shape[2], 1)\n",
        "X_test = X_test.reshape(X_test.shape[0], X_test.shape[1], X_test.shape[2], 1)\n",
        "X_valid = X_valid.reshape(X_valid.shape[0], X_valid.shape[1], X_valid.shape[2], 1)"
      ],
      "execution_count": null,
      "outputs": []
    },
    {
      "cell_type": "code",
      "metadata": {
        "colab": {
          "base_uri": "https://localhost:8080/"
        },
        "id": "b0C_XIFXmqqe",
        "outputId": "3999f1ee-26d3-434b-cfc3-1792452c9f34"
      },
      "source": [
        "print('X_train shape:', X_train.shape)\n",
        "print('y_train shape:', y_train.shape)\n",
        "print('X_valid shape:', X_valid.shape)\n",
        "print('y_valid shape:', y_valid.shape)"
      ],
      "execution_count": null,
      "outputs": [
        {
          "output_type": "stream",
          "text": [
            "X_train shape: (55000, 28, 28, 1)\n",
            "y_train shape: (55000,)\n",
            "X_valid shape: (5000, 28, 28, 1)\n",
            "y_valid shape: (5000,)\n"
          ],
          "name": "stdout"
        }
      ]
    },
    {
      "cell_type": "markdown",
      "metadata": {
        "id": "88QKiWsht_4c"
      },
      "source": [
        "# Model Building"
      ]
    },
    {
      "cell_type": "code",
      "metadata": {
        "id": "SywqQpcL6nzC"
      },
      "source": [
        "EPOCHS = 50\n",
        "BS = 32\n",
        "LR = 0.001"
      ],
      "execution_count": null,
      "outputs": []
    },
    {
      "cell_type": "code",
      "metadata": {
        "colab": {
          "base_uri": "https://localhost:8080/"
        },
        "id": "m0iQGk3YttPJ",
        "outputId": "d7ddd9c3-6768-4b9e-f91e-f76db22c7359"
      },
      "source": [
        "DefaultConv2D = partial(Conv2D, kernel_size=3, activation='relu', padding='SAME')\n",
        "\n",
        "def FashionNet(DefaultConv2D):\n",
        "\n",
        "  model = Sequential([\n",
        "              DefaultConv2D(filters=64, kernel_size=7, input_shape=[28, 28, 1]),\n",
        "              BatchNormalization(),\n",
        "              Dropout(0.15),\n",
        "              DefaultConv2D(128),\n",
        "              MaxPooling2D(pool_size=2),\n",
        "              BatchNormalization(),\n",
        "              Dropout(0.15),\n",
        "              DefaultConv2D(256),\n",
        "              MaxPooling2D(pool_size=2),\n",
        "              BatchNormalization(),\n",
        "              Dropout(0.15),\n",
        "              DefaultConv2D(512),\n",
        "              MaxPooling2D(pool_size=2),\n",
        "              BatchNormalization(),\n",
        "              Dropout(0.15),\n",
        "              DefaultConv2D(1024),\n",
        "              MaxPooling2D(pool_size=2),\n",
        "              BatchNormalization(),\n",
        "              Dropout(0.15),\n",
        "              Flatten(),\n",
        "              Dense(512, activation='relu'),\n",
        "              Dropout(0.5),\n",
        "              Dense(256, activation='relu'),\n",
        "              Dropout(0.5),\n",
        "              Dense(128, activation='relu'),\n",
        "              Dropout(0.5),\n",
        "              Dense(64, 'relu'),\n",
        "              Dense(10, activation='softmax')       \n",
        "  ])\n",
        "\n",
        "  sgd = SGD(learning_rate=LR, momentum=0.9)\n",
        "  model.compile(loss=\"sparse_categorical_crossentropy\", optimizer=sgd, metrics=[\"accuracy\"])\n",
        "\n",
        "  model.summary()\n",
        "\n",
        "  return model\n",
        "\n",
        "\n",
        "# Calling a function\n",
        "FashionNet = FashionNet(DefaultConv2D)"
      ],
      "execution_count": null,
      "outputs": [
        {
          "output_type": "stream",
          "text": [
            "Model: \"sequential_2\"\n",
            "_________________________________________________________________\n",
            "Layer (type)                 Output Shape              Param #   \n",
            "=================================================================\n",
            "conv2d_10 (Conv2D)           (None, 28, 28, 64)        3200      \n",
            "_________________________________________________________________\n",
            "batch_normalization_10 (Batc (None, 28, 28, 64)        256       \n",
            "_________________________________________________________________\n",
            "dropout_16 (Dropout)         (None, 28, 28, 64)        0         \n",
            "_________________________________________________________________\n",
            "conv2d_11 (Conv2D)           (None, 28, 28, 128)       73856     \n",
            "_________________________________________________________________\n",
            "max_pooling2d_8 (MaxPooling2 (None, 14, 14, 128)       0         \n",
            "_________________________________________________________________\n",
            "batch_normalization_11 (Batc (None, 14, 14, 128)       512       \n",
            "_________________________________________________________________\n",
            "dropout_17 (Dropout)         (None, 14, 14, 128)       0         \n",
            "_________________________________________________________________\n",
            "conv2d_12 (Conv2D)           (None, 14, 14, 256)       295168    \n",
            "_________________________________________________________________\n",
            "max_pooling2d_9 (MaxPooling2 (None, 7, 7, 256)         0         \n",
            "_________________________________________________________________\n",
            "batch_normalization_12 (Batc (None, 7, 7, 256)         1024      \n",
            "_________________________________________________________________\n",
            "dropout_18 (Dropout)         (None, 7, 7, 256)         0         \n",
            "_________________________________________________________________\n",
            "conv2d_13 (Conv2D)           (None, 7, 7, 512)         1180160   \n",
            "_________________________________________________________________\n",
            "max_pooling2d_10 (MaxPooling (None, 3, 3, 512)         0         \n",
            "_________________________________________________________________\n",
            "batch_normalization_13 (Batc (None, 3, 3, 512)         2048      \n",
            "_________________________________________________________________\n",
            "dropout_19 (Dropout)         (None, 3, 3, 512)         0         \n",
            "_________________________________________________________________\n",
            "conv2d_14 (Conv2D)           (None, 3, 3, 1024)        4719616   \n",
            "_________________________________________________________________\n",
            "max_pooling2d_11 (MaxPooling (None, 1, 1, 1024)        0         \n",
            "_________________________________________________________________\n",
            "batch_normalization_14 (Batc (None, 1, 1, 1024)        4096      \n",
            "_________________________________________________________________\n",
            "dropout_20 (Dropout)         (None, 1, 1, 1024)        0         \n",
            "_________________________________________________________________\n",
            "flatten_2 (Flatten)          (None, 1024)              0         \n",
            "_________________________________________________________________\n",
            "dense_10 (Dense)             (None, 512)               524800    \n",
            "_________________________________________________________________\n",
            "dropout_21 (Dropout)         (None, 512)               0         \n",
            "_________________________________________________________________\n",
            "dense_11 (Dense)             (None, 256)               131328    \n",
            "_________________________________________________________________\n",
            "dropout_22 (Dropout)         (None, 256)               0         \n",
            "_________________________________________________________________\n",
            "dense_12 (Dense)             (None, 128)               32896     \n",
            "_________________________________________________________________\n",
            "dropout_23 (Dropout)         (None, 128)               0         \n",
            "_________________________________________________________________\n",
            "dense_13 (Dense)             (None, 64)                8256      \n",
            "_________________________________________________________________\n",
            "dense_14 (Dense)             (None, 10)                650       \n",
            "=================================================================\n",
            "Total params: 6,977,866\n",
            "Trainable params: 6,973,898\n",
            "Non-trainable params: 3,968\n",
            "_________________________________________________________________\n"
          ],
          "name": "stdout"
        }
      ]
    },
    {
      "cell_type": "markdown",
      "metadata": {
        "id": "GXxrlFX255Xe"
      },
      "source": [
        "# Model Training"
      ]
    },
    {
      "cell_type": "code",
      "metadata": {
        "colab": {
          "base_uri": "https://localhost:8080/"
        },
        "id": "f4UEsBjs4v2s",
        "outputId": "ef40e887-a1ac-4f07-abc0-d5915335aa32"
      },
      "source": [
        "H = FashionNet.fit(X_train, y_train, \n",
        "                   epochs=EPOCHS,\n",
        "                   validation_data=(X_valid, y_valid),\n",
        "                   batch_size=BS,\n",
        "                   steps_per_epoch=len(X_train) // BS)"
      ],
      "execution_count": null,
      "outputs": [
        {
          "output_type": "stream",
          "text": [
            "Epoch 1/50\n",
            "1718/1718 [==============================] - 30s 17ms/step - loss: 1.5060 - accuracy: 0.4565 - val_loss: 0.5517 - val_accuracy: 0.7992\n",
            "Epoch 2/50\n",
            "1718/1718 [==============================] - 29s 17ms/step - loss: 0.6664 - accuracy: 0.7506 - val_loss: 0.4479 - val_accuracy: 0.8294\n",
            "Epoch 3/50\n",
            "1718/1718 [==============================] - 29s 17ms/step - loss: 0.5460 - accuracy: 0.8000 - val_loss: 0.3648 - val_accuracy: 0.8678\n",
            "Epoch 4/50\n",
            "1718/1718 [==============================] - 29s 17ms/step - loss: 0.4687 - accuracy: 0.8335 - val_loss: 0.3332 - val_accuracy: 0.8806\n",
            "Epoch 5/50\n",
            "1718/1718 [==============================] - 30s 17ms/step - loss: 0.4165 - accuracy: 0.8583 - val_loss: 0.3149 - val_accuracy: 0.8902\n",
            "Epoch 6/50\n",
            "1718/1718 [==============================] - 30s 17ms/step - loss: 0.3836 - accuracy: 0.8678 - val_loss: 0.2814 - val_accuracy: 0.8970\n",
            "Epoch 7/50\n",
            "1718/1718 [==============================] - 30s 17ms/step - loss: 0.3553 - accuracy: 0.8790 - val_loss: 0.2983 - val_accuracy: 0.8912\n",
            "Epoch 8/50\n",
            "1718/1718 [==============================] - 30s 17ms/step - loss: 0.3329 - accuracy: 0.8860 - val_loss: 0.2825 - val_accuracy: 0.9046\n",
            "Epoch 9/50\n",
            "1718/1718 [==============================] - 30s 17ms/step - loss: 0.3104 - accuracy: 0.8949 - val_loss: 0.2660 - val_accuracy: 0.9054\n",
            "Epoch 10/50\n",
            "1718/1718 [==============================] - 30s 17ms/step - loss: 0.2970 - accuracy: 0.8998 - val_loss: 0.2524 - val_accuracy: 0.9108\n",
            "Epoch 11/50\n",
            "1718/1718 [==============================] - 30s 17ms/step - loss: 0.2816 - accuracy: 0.9038 - val_loss: 0.2389 - val_accuracy: 0.9110\n",
            "Epoch 12/50\n",
            "1718/1718 [==============================] - 30s 17ms/step - loss: 0.2682 - accuracy: 0.9101 - val_loss: 0.2261 - val_accuracy: 0.9202\n",
            "Epoch 13/50\n",
            "1718/1718 [==============================] - 30s 17ms/step - loss: 0.2582 - accuracy: 0.9116 - val_loss: 0.2179 - val_accuracy: 0.9236\n",
            "Epoch 14/50\n",
            "1718/1718 [==============================] - 30s 17ms/step - loss: 0.2467 - accuracy: 0.9146 - val_loss: 0.2216 - val_accuracy: 0.9218\n",
            "Epoch 15/50\n",
            "1718/1718 [==============================] - 30s 17ms/step - loss: 0.2459 - accuracy: 0.9168 - val_loss: 0.2141 - val_accuracy: 0.9236\n",
            "Epoch 16/50\n",
            "1718/1718 [==============================] - 30s 17ms/step - loss: 0.2279 - accuracy: 0.9230 - val_loss: 0.2051 - val_accuracy: 0.9250\n",
            "Epoch 17/50\n",
            "1718/1718 [==============================] - 30s 17ms/step - loss: 0.2270 - accuracy: 0.9229 - val_loss: 0.2128 - val_accuracy: 0.9246\n",
            "Epoch 18/50\n",
            "1718/1718 [==============================] - 30s 17ms/step - loss: 0.2146 - accuracy: 0.9265 - val_loss: 0.1998 - val_accuracy: 0.9266\n",
            "Epoch 19/50\n",
            "1718/1718 [==============================] - 30s 17ms/step - loss: 0.2088 - accuracy: 0.9305 - val_loss: 0.2092 - val_accuracy: 0.9256\n",
            "Epoch 20/50\n",
            "1718/1718 [==============================] - 30s 17ms/step - loss: 0.2010 - accuracy: 0.9316 - val_loss: 0.2150 - val_accuracy: 0.9234\n",
            "Epoch 21/50\n",
            "1718/1718 [==============================] - 30s 17ms/step - loss: 0.1924 - accuracy: 0.9339 - val_loss: 0.1980 - val_accuracy: 0.9312\n",
            "Epoch 22/50\n",
            "1718/1718 [==============================] - 30s 17ms/step - loss: 0.1860 - accuracy: 0.9358 - val_loss: 0.1958 - val_accuracy: 0.9332\n",
            "Epoch 23/50\n",
            "1718/1718 [==============================] - 30s 17ms/step - loss: 0.1789 - accuracy: 0.9380 - val_loss: 0.1964 - val_accuracy: 0.9326\n",
            "Epoch 24/50\n",
            "1718/1718 [==============================] - 30s 17ms/step - loss: 0.1702 - accuracy: 0.9413 - val_loss: 0.1933 - val_accuracy: 0.9330\n",
            "Epoch 25/50\n",
            "1718/1718 [==============================] - 30s 17ms/step - loss: 0.1614 - accuracy: 0.9438 - val_loss: 0.2022 - val_accuracy: 0.9312\n",
            "Epoch 26/50\n",
            "1718/1718 [==============================] - 30s 17ms/step - loss: 0.1513 - accuracy: 0.9473 - val_loss: 0.2111 - val_accuracy: 0.9300\n",
            "Epoch 27/50\n",
            "1718/1718 [==============================] - 30s 17ms/step - loss: 0.1563 - accuracy: 0.9474 - val_loss: 0.2001 - val_accuracy: 0.9324\n",
            "Epoch 28/50\n",
            "1718/1718 [==============================] - 30s 17ms/step - loss: 0.1522 - accuracy: 0.9473 - val_loss: 0.1951 - val_accuracy: 0.9344\n",
            "Epoch 29/50\n",
            "1718/1718 [==============================] - 30s 17ms/step - loss: 0.1375 - accuracy: 0.9525 - val_loss: 0.2084 - val_accuracy: 0.9334\n",
            "Epoch 30/50\n",
            "1718/1718 [==============================] - 30s 17ms/step - loss: 0.1411 - accuracy: 0.9524 - val_loss: 0.2347 - val_accuracy: 0.9260\n",
            "Epoch 31/50\n",
            "1718/1718 [==============================] - 30s 17ms/step - loss: 0.1363 - accuracy: 0.9529 - val_loss: 0.2332 - val_accuracy: 0.9250\n",
            "Epoch 32/50\n",
            "1718/1718 [==============================] - 30s 17ms/step - loss: 0.1291 - accuracy: 0.9558 - val_loss: 0.2077 - val_accuracy: 0.9318\n",
            "Epoch 33/50\n",
            "1718/1718 [==============================] - 30s 17ms/step - loss: 0.1164 - accuracy: 0.9598 - val_loss: 0.2130 - val_accuracy: 0.9310\n",
            "Epoch 34/50\n",
            "1718/1718 [==============================] - 30s 17ms/step - loss: 0.1237 - accuracy: 0.9579 - val_loss: 0.2210 - val_accuracy: 0.9350\n",
            "Epoch 35/50\n",
            "1718/1718 [==============================] - 30s 17ms/step - loss: 0.1184 - accuracy: 0.9584 - val_loss: 0.2126 - val_accuracy: 0.9350\n",
            "Epoch 36/50\n",
            "1718/1718 [==============================] - 30s 17ms/step - loss: 0.1094 - accuracy: 0.9621 - val_loss: 0.2191 - val_accuracy: 0.9322\n",
            "Epoch 37/50\n",
            "1718/1718 [==============================] - 30s 17ms/step - loss: 0.1037 - accuracy: 0.9644 - val_loss: 0.2156 - val_accuracy: 0.9322\n",
            "Epoch 38/50\n",
            "1718/1718 [==============================] - 30s 17ms/step - loss: 0.1062 - accuracy: 0.9624 - val_loss: 0.2281 - val_accuracy: 0.9326\n",
            "Epoch 39/50\n",
            "1718/1718 [==============================] - 30s 17ms/step - loss: 0.0995 - accuracy: 0.9662 - val_loss: 0.2209 - val_accuracy: 0.9340\n",
            "Epoch 40/50\n",
            "1718/1718 [==============================] - 30s 17ms/step - loss: 0.0956 - accuracy: 0.9684 - val_loss: 0.2284 - val_accuracy: 0.9338\n",
            "Epoch 41/50\n",
            "1718/1718 [==============================] - 30s 17ms/step - loss: 0.0890 - accuracy: 0.9691 - val_loss: 0.2311 - val_accuracy: 0.9332\n",
            "Epoch 42/50\n",
            "1718/1718 [==============================] - 30s 17ms/step - loss: 0.0868 - accuracy: 0.9708 - val_loss: 0.2397 - val_accuracy: 0.9356\n",
            "Epoch 43/50\n",
            "1718/1718 [==============================] - 30s 17ms/step - loss: 0.0843 - accuracy: 0.9702 - val_loss: 0.2466 - val_accuracy: 0.9324\n",
            "Epoch 44/50\n",
            "1718/1718 [==============================] - 30s 17ms/step - loss: 0.0772 - accuracy: 0.9730 - val_loss: 0.2315 - val_accuracy: 0.9350\n",
            "Epoch 45/50\n",
            "1718/1718 [==============================] - 30s 17ms/step - loss: 0.0798 - accuracy: 0.9732 - val_loss: 0.2466 - val_accuracy: 0.9348\n",
            "Epoch 46/50\n",
            "1718/1718 [==============================] - 30s 17ms/step - loss: 0.0753 - accuracy: 0.9754 - val_loss: 0.2401 - val_accuracy: 0.9344\n",
            "Epoch 47/50\n",
            "1718/1718 [==============================] - 30s 17ms/step - loss: 0.0745 - accuracy: 0.9758 - val_loss: 0.2411 - val_accuracy: 0.9368\n",
            "Epoch 48/50\n",
            "1718/1718 [==============================] - 30s 17ms/step - loss: 0.0682 - accuracy: 0.9769 - val_loss: 0.2511 - val_accuracy: 0.9326\n",
            "Epoch 49/50\n",
            "1718/1718 [==============================] - 30s 17ms/step - loss: 0.0688 - accuracy: 0.9756 - val_loss: 0.2546 - val_accuracy: 0.9346\n",
            "Epoch 50/50\n",
            "1718/1718 [==============================] - 30s 17ms/step - loss: 0.0623 - accuracy: 0.9781 - val_loss: 0.2746 - val_accuracy: 0.9308\n"
          ],
          "name": "stdout"
        }
      ]
    },
    {
      "cell_type": "markdown",
      "metadata": {
        "id": "Zlju9hQwMWmO"
      },
      "source": [
        "# Prediction using a Model"
      ]
    },
    {
      "cell_type": "code",
      "metadata": {
        "id": "ivCnPXCnMHuQ"
      },
      "source": [
        "pred = FashionNet.predict(X_test)\n",
        "predictions = np.argmax(pred, axis=1)"
      ],
      "execution_count": null,
      "outputs": []
    },
    {
      "cell_type": "code",
      "metadata": {
        "colab": {
          "base_uri": "https://localhost:8080/"
        },
        "id": "DYEgw-GbObQu",
        "outputId": "b14d1361-c0ed-46f2-b51e-636ed4958bfc"
      },
      "source": [
        "y_test"
      ],
      "execution_count": null,
      "outputs": [
        {
          "output_type": "execute_result",
          "data": {
            "text/plain": [
              "array([9, 2, 1, ..., 8, 1, 5], dtype=uint8)"
            ]
          },
          "metadata": {
            "tags": []
          },
          "execution_count": 15
        }
      ]
    },
    {
      "cell_type": "code",
      "metadata": {
        "colab": {
          "base_uri": "https://localhost:8080/"
        },
        "id": "UAnME7uqNVvC",
        "outputId": "3bd7fcba-0b88-44e0-ab7b-1d70497eac94"
      },
      "source": [
        "predictions"
      ],
      "execution_count": null,
      "outputs": [
        {
          "output_type": "execute_result",
          "data": {
            "text/plain": [
              "array([9, 2, 1, ..., 8, 1, 5])"
            ]
          },
          "metadata": {
            "tags": []
          },
          "execution_count": 16
        }
      ]
    },
    {
      "cell_type": "code",
      "metadata": {
        "id": "b-YmWLVDORju"
      },
      "source": [
        "part_predictions = []\n",
        "part_actual_labels = []\n",
        "for i, j in zip(predictions[:10], y_test[:10]):\n",
        "  part_predictions.append(class_names[i])\n",
        "  part_actual_labels.append(class_names[j])"
      ],
      "execution_count": null,
      "outputs": []
    },
    {
      "cell_type": "code",
      "metadata": {
        "colab": {
          "base_uri": "https://localhost:8080/",
          "height": 363
        },
        "id": "8KAEM2wlPLp4",
        "outputId": "02c246f5-6b85-426d-bcad-23bbaa7b5395"
      },
      "source": [
        "partial_data = {'Predictions' : part_predictions, 'Actual Labels' : part_actual_labels}\n",
        "part_predict = pd.DataFrame(partial_data)\n",
        "part_predict"
      ],
      "execution_count": null,
      "outputs": [
        {
          "output_type": "execute_result",
          "data": {
            "text/html": [
              "<div>\n",
              "<style scoped>\n",
              "    .dataframe tbody tr th:only-of-type {\n",
              "        vertical-align: middle;\n",
              "    }\n",
              "\n",
              "    .dataframe tbody tr th {\n",
              "        vertical-align: top;\n",
              "    }\n",
              "\n",
              "    .dataframe thead th {\n",
              "        text-align: right;\n",
              "    }\n",
              "</style>\n",
              "<table border=\"1\" class=\"dataframe\">\n",
              "  <thead>\n",
              "    <tr style=\"text-align: right;\">\n",
              "      <th></th>\n",
              "      <th>Predictions</th>\n",
              "      <th>Actual Labels</th>\n",
              "    </tr>\n",
              "  </thead>\n",
              "  <tbody>\n",
              "    <tr>\n",
              "      <th>0</th>\n",
              "      <td>Ankle boot</td>\n",
              "      <td>Ankle boot</td>\n",
              "    </tr>\n",
              "    <tr>\n",
              "      <th>1</th>\n",
              "      <td>Pullover</td>\n",
              "      <td>Pullover</td>\n",
              "    </tr>\n",
              "    <tr>\n",
              "      <th>2</th>\n",
              "      <td>Trouser</td>\n",
              "      <td>Trouser</td>\n",
              "    </tr>\n",
              "    <tr>\n",
              "      <th>3</th>\n",
              "      <td>Trouser</td>\n",
              "      <td>Trouser</td>\n",
              "    </tr>\n",
              "    <tr>\n",
              "      <th>4</th>\n",
              "      <td>Shirt</td>\n",
              "      <td>Shirt</td>\n",
              "    </tr>\n",
              "    <tr>\n",
              "      <th>5</th>\n",
              "      <td>Trouser</td>\n",
              "      <td>Trouser</td>\n",
              "    </tr>\n",
              "    <tr>\n",
              "      <th>6</th>\n",
              "      <td>Coat</td>\n",
              "      <td>Coat</td>\n",
              "    </tr>\n",
              "    <tr>\n",
              "      <th>7</th>\n",
              "      <td>Shirt</td>\n",
              "      <td>Shirt</td>\n",
              "    </tr>\n",
              "    <tr>\n",
              "      <th>8</th>\n",
              "      <td>Sandal</td>\n",
              "      <td>Sandal</td>\n",
              "    </tr>\n",
              "    <tr>\n",
              "      <th>9</th>\n",
              "      <td>Sneaker</td>\n",
              "      <td>Sneaker</td>\n",
              "    </tr>\n",
              "  </tbody>\n",
              "</table>\n",
              "</div>"
            ],
            "text/plain": [
              "  Predictions Actual Labels\n",
              "0  Ankle boot    Ankle boot\n",
              "1    Pullover      Pullover\n",
              "2     Trouser       Trouser\n",
              "3     Trouser       Trouser\n",
              "4       Shirt         Shirt\n",
              "5     Trouser       Trouser\n",
              "6        Coat          Coat\n",
              "7       Shirt         Shirt\n",
              "8      Sandal        Sandal\n",
              "9     Sneaker       Sneaker"
            ]
          },
          "metadata": {
            "tags": []
          },
          "execution_count": 18
        }
      ]
    },
    {
      "cell_type": "code",
      "metadata": {
        "id": "ApLjqCIPQA9b"
      },
      "source": [
        "n_img = 5\n",
        "X_new = X_test[:n_img]"
      ],
      "execution_count": null,
      "outputs": []
    },
    {
      "cell_type": "code",
      "metadata": {
        "colab": {
          "base_uri": "https://localhost:8080/",
          "height": 182
        },
        "id": "fwBMv17EQIK0",
        "outputId": "feb7b4cc-7675-4dd3-f5dc-98830009699f"
      },
      "source": [
        "plt.figure(figsize=(2.5 * n_img, 2.4))\n",
        "for index, image in enumerate(X_new):\n",
        "    plt.subplot(1, n_img, index + 1)\n",
        "    plt.imshow(image.reshape(28, 28), cmap='binary')\n",
        "    plt.axis('off')\n",
        "    plt.title(f'Prediction: {class_names[predictions[index]]} \\nActual Label: {class_names[y_test[index]]}', fontsize=12)\n",
        "plt.subplots_adjust(wspace=0.2, hspace=0.5)\n",
        "plt.show()"
      ],
      "execution_count": null,
      "outputs": [
        {
          "output_type": "display_data",
          "data": {
            "image/png": "[encoded data removed]",
            "text/plain": [
              "<Figure size 900x172.8 with 5 Axes>"
            ]
          },
          "metadata": {
            "tags": [],
            "needs_background": "light"
          }
        }
      ]
    },
    {
      "cell_type": "markdown",
      "metadata": {
        "id": "mhTQTAQrITSG"
      },
      "source": [
        "# Model Evaluation"
      ]
    },
    {
      "cell_type": "code",
      "metadata": {
        "colab": {
          "base_uri": "https://localhost:8080/"
        },
        "id": "47Ix_n0a6ukb",
        "outputId": "e5be5247-7d57-4261-8ee7-533856b3bed3"
      },
      "source": [
        "FashionNet.evaluate(X_test, y_test)"
      ],
      "execution_count": null,
      "outputs": [
        {
          "output_type": "stream",
          "text": [
            "313/313 [==============================] - 2s 5ms/step - loss: 0.2260 - accuracy: 0.9308\n"
          ],
          "name": "stdout"
        },
        {
          "output_type": "execute_result",
          "data": {
            "text/plain": [
              "[0.22604931890964508, 0.9308000206947327]"
            ]
          },
          "metadata": {
            "tags": []
          },
          "execution_count": 21
        }
      ]
    },
    {
      "cell_type": "code",
      "metadata": {
        "colab": {
          "base_uri": "https://localhost:8080/"
        },
        "id": "R83AWNTTLvgq",
        "outputId": "721a14a4-6a50-426d-a55b-07869b4a13c7"
      },
      "source": [
        "from google.colab import drive\n",
        "drive.mount('/content/drive')"
      ],
      "execution_count": null,
      "outputs": [
        {
          "output_type": "stream",
          "text": [
            "Mounted at /content/drive\n"
          ],
          "name": "stdout"
        }
      ]
    },
    {
      "cell_type": "code",
      "metadata": {
        "colab": {
          "base_uri": "https://localhost:8080/"
        },
        "id": "PQNEYjcSQ5xs",
        "outputId": "1d12f918-e0f6-40c0-9346-e98ad73388d3"
      },
      "source": [
        "accuracy_score(y_test, predictions)"
      ],
      "execution_count": null,
      "outputs": [
        {
          "output_type": "execute_result",
          "data": {
            "text/plain": [
              "0.9308"
            ]
          },
          "metadata": {
            "tags": []
          },
          "execution_count": 22
        }
      ]
    },
    {
      "cell_type": "markdown",
      "metadata": {
        "id": "X-ycIH2WLZhz"
      },
      "source": [
        "## Loss/Accuracy vs Epochs Plot"
      ]
    },
    {
      "cell_type": "code",
      "metadata": {
        "colab": {
          "base_uri": "https://localhost:8080/",
          "height": 302
        },
        "id": "PGCvHtwvIk73",
        "outputId": "5ef2c1a3-fff1-4485-ed6f-5e0d29ed7e3d"
      },
      "source": [
        "N = EPOCHS\n",
        "plt.style.use(\"ggplot\")\n",
        "plt.figure()\n",
        "plt.plot(np.arange(0, N), H.history[\"loss\"], label=\"train_loss\")\n",
        "plt.plot(np.arange(0, N), H.history[\"val_loss\"], label=\"val_loss\")\n",
        "plt.plot(np.arange(0, N), H.history[\"accuracy\"], label=\"train_acc\")\n",
        "plt.plot(np.arange(0, N), H.history[\"val_accuracy\"], label=\"val_acc\")\n",
        "plt.title(\"Training Loss and Accuracy\")\n",
        "plt.xlabel(\"Epoch #\")\n",
        "plt.ylabel(\"Loss/Accuracy\")\n",
        "plt.legend(loc=\"center\")\n",
        "plt.show()\n",
        "# plt.savefig(\"/content/drive/MyDrive/M1_Assignment/Plots/plot-10.png\")"
      ],
      "execution_count": null,
      "outputs": [
        {
          "output_type": "display_data",
          "data": {
            "image/png": "[encoded data removed]",
            "text/plain": [
              "<Figure size 432x288 with 1 Axes>"
            ]
          },
          "metadata": {
            "tags": []
          }
        }
      ]
    },
    {
      "cell_type": "code",
      "metadata": {
        "id": "FcMRJOKPcSXA"
      },
      "source": [
        ""
      ],
      "execution_count": null,
      "outputs": []
    }
  ]
}